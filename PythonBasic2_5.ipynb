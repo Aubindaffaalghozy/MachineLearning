{
  "nbformat": 4,
  "nbformat_minor": 0,
  "metadata": {
    "colab": {
      "provenance": [],
      "authorship_tag": "ABX9TyPZ6bR654EAddJjn751xuWl",
      "include_colab_link": true
    },
    "kernelspec": {
      "name": "python3",
      "display_name": "Python 3"
    },
    "language_info": {
      "name": "python"
    }
  },
  "cells": [
    {
      "cell_type": "markdown",
      "metadata": {
        "id": "view-in-github",
        "colab_type": "text"
      },
      "source": [
        "<a href=\"https://colab.research.google.com/github/Aubindaffaalghozy/MachineLearning/blob/main/PythonBasic2_5.ipynb\" target=\"_parent\"><img src=\"https://colab.research.google.com/assets/colab-badge.svg\" alt=\"Open In Colab\"/></a>"
      ]
    },
    {
      "cell_type": "code",
      "source": [
        "a=20\n",
        "print(a)\n",
        "print(id(a))"
      ],
      "metadata": {
        "colab": {
          "base_uri": "https://localhost:8080/"
        },
        "id": "6JHG5CsVfL7Q",
        "outputId": "9be1397d-f527-4597-e1ba-4ce09ff5695a"
      },
      "execution_count": 1,
      "outputs": [
        {
          "output_type": "stream",
          "name": "stdout",
          "text": [
            "20\n",
            "10751464\n"
          ]
        }
      ]
    },
    {
      "cell_type": "code",
      "source": [
        "a=30\n",
        "print(a)\n",
        "print(id(a))"
      ],
      "metadata": {
        "colab": {
          "base_uri": "https://localhost:8080/"
        },
        "id": "Pgafc9sLfTbI",
        "outputId": "8ced94fb-3c99-4ae1-9082-3a6c233dfd01"
      },
      "execution_count": 2,
      "outputs": [
        {
          "output_type": "stream",
          "name": "stdout",
          "text": [
            "30\n",
            "10751784\n"
          ]
        }
      ]
    },
    {
      "cell_type": "code",
      "execution_count": 3,
      "metadata": {
        "colab": {
          "base_uri": "https://localhost:8080/"
        },
        "id": "Drht2l5je5xc",
        "outputId": "07187bfb-7c89-4b2f-dc8b-fe325bce6357"
      },
      "outputs": [
        {
          "output_type": "stream",
          "name": "stdout",
          "text": [
            "[1, 2, 3, 4]\n",
            "<class 'list'>\n",
            "138552453994496\n"
          ]
        }
      ],
      "source": [
        "a=[1,2,3,4]\n",
        "print(a)\n",
        "print(type(a))\n",
        "print(id(a))"
      ]
    },
    {
      "cell_type": "code",
      "source": [
        "a[0]=0\n",
        "print(a)\n",
        "print(id(a))"
      ],
      "metadata": {
        "colab": {
          "base_uri": "https://localhost:8080/"
        },
        "id": "wuV78Yi8fbmL",
        "outputId": "a426839b-fb8e-4583-e1d9-67758fc0a912"
      },
      "execution_count": 4,
      "outputs": [
        {
          "output_type": "stream",
          "name": "stdout",
          "text": [
            "[0, 2, 3, 4]\n",
            "138552453994496\n"
          ]
        }
      ]
    },
    {
      "cell_type": "code",
      "source": [
        "a=int(input(\"Sample input: \"))\n",
        "print(\"Expected output: \", a>=100)"
      ],
      "metadata": {
        "colab": {
          "base_uri": "https://localhost:8080/"
        },
        "id": "jJ9uB3MlfdTJ",
        "outputId": "1c86d653-cd1b-45fc-8985-deb7c0b957c0"
      },
      "execution_count": 5,
      "outputs": [
        {
          "output_type": "stream",
          "name": "stdout",
          "text": [
            "Sample input: 35\n",
            "Expected output:  False\n"
          ]
        }
      ]
    },
    {
      "cell_type": "code",
      "source": [
        "x = 5 + 2 * 3 / (2 - 3) ** 2\n",
        "print(x)"
      ],
      "metadata": {
        "colab": {
          "base_uri": "https://localhost:8080/"
        },
        "id": "hCS5J8xJfeZ5",
        "outputId": "200a3f33-6db1-4b77-acd8-591c5119cc57"
      },
      "execution_count": 6,
      "outputs": [
        {
          "output_type": "stream",
          "name": "stdout",
          "text": [
            "11.0\n"
          ]
        }
      ]
    },
    {
      "cell_type": "code",
      "source": [
        "a = 5\n",
        "b = 6\n",
        "\n",
        "if a==b:\n",
        "    print(\"oke\")\n",
        "    print(\"berhasil\")\n",
        "    print(\"Gagal\")"
      ],
      "metadata": {
        "id": "_Q3Q_Hazfkqa"
      },
      "execution_count": 8,
      "outputs": []
    },
    {
      "cell_type": "code",
      "source": [
        "a = 5\n",
        "b = 6\n",
        "\n",
        "if a==b:\n",
        "    print(\"oke\")\n",
        "    print(\"berhasil\")\n",
        "else:\n",
        "    print(\"Gagal\")"
      ],
      "metadata": {
        "colab": {
          "base_uri": "https://localhost:8080/"
        },
        "id": "xq4TiXT1fp3z",
        "outputId": "792e3b40-f544-4cc6-8f95-5a03ae09e020"
      },
      "execution_count": 9,
      "outputs": [
        {
          "output_type": "stream",
          "name": "stdout",
          "text": [
            "Gagal\n"
          ]
        }
      ]
    },
    {
      "cell_type": "code",
      "source": [
        "bil = int(input(\"Masukan bilangan bulat: \"))\n",
        "\n",
        "if(bil%2 == 0):\n",
        "    print(\"genap\")\n",
        "else:\n",
        "    print(\"ganjil\")"
      ],
      "metadata": {
        "colab": {
          "base_uri": "https://localhost:8080/"
        },
        "id": "y13UkcyYfrqj",
        "outputId": "eacda76c-1476-4840-b700-5571351607c5"
      },
      "execution_count": 10,
      "outputs": [
        {
          "output_type": "stream",
          "name": "stdout",
          "text": [
            "Masukan bilangan bulat: 7\n",
            "ganjil\n"
          ]
        }
      ]
    },
    {
      "cell_type": "code",
      "source": [
        "print(\"Masukan nilai koordinat\")\n",
        "x = int(input(\"Nilai x: \"))\n",
        "y = int(input(\"Nilai y: \"))\n",
        "\n",
        "if x>0 and y>0:\n",
        "    print(\"Koordinat (\"+ str(x) + \",\"+ str(y) +\") berada pada Kuadran I\" )\n",
        "elif x<0 and y>0:\n",
        "    print(\"Koordinat (\"+ str(x) + \",\"+ str(y) +\") berada pada Kuadran II\" )\n",
        "elif x<0 and y<0:\n",
        "    print(\"Koordinat (\"+ str(x) + \",\"+ str(y) +\") berada pada Kuadran III\" )\n",
        "elif x>0 and y<0:\n",
        "    print(\"Koordinat (\"+ str(x) + \",\"+ str(y) +\") berada pada Kuadran IV\" )\n",
        "else:\n",
        "    pass"
      ],
      "metadata": {
        "colab": {
          "base_uri": "https://localhost:8080/"
        },
        "id": "wR1qI3s1futT",
        "outputId": "af832e0c-b7bb-44bf-c594-804d3fe2ae03"
      },
      "execution_count": 11,
      "outputs": [
        {
          "output_type": "stream",
          "name": "stdout",
          "text": [
            "Masukan nilai koordinat\n",
            "Nilai x: 3\n",
            "Nilai y: 5\n",
            "Koordinat (3,5) berada pada Kuadran I\n"
          ]
        }
      ]
    },
    {
      "cell_type": "code",
      "source": [
        "num1 = int(input(\"First Number : \"))\n",
        "num2 = int(input(\"Second Number : \"))\n",
        "num3 = int(input(\"Third Number : \"))\n",
        "\n",
        "#set number1 sebagai yang terbesar\n",
        "largestNum = num1\n",
        "\n",
        "#deteksi apakah num2 > num1\n",
        "if num2 > largestNum:\n",
        "    largestNum = num2\n",
        "\n",
        "#deteksi apakah num3 > num2\n",
        "if num3 > largestNum:\n",
        "    largestNum = num3\n",
        "\n",
        "print(\"The largest number is: \", largestNum)"
      ],
      "metadata": {
        "colab": {
          "base_uri": "https://localhost:8080/"
        },
        "id": "h-yORxjCf0O9",
        "outputId": "2f279ff1-9f06-4102-9b2c-819d3bbdec0e"
      },
      "execution_count": 12,
      "outputs": [
        {
          "output_type": "stream",
          "name": "stdout",
          "text": [
            "First Number : 3\n",
            "Second Number : 4\n",
            "Third Number : 5\n",
            "The largest number is:  5\n"
          ]
        }
      ]
    },
    {
      "cell_type": "code",
      "source": [
        "plant = input(\"Please input a best plant = \")\n",
        "\n",
        "if plant == \"Spathiphyllum\":\n",
        "    print(\"Yes - Spathiphyllum is the best plant ever!\")\n",
        "elif plant == \"spathiphyllum\":\n",
        "    print(\"No, I want a big Spathiphyllum!\")\n",
        "else:\n",
        "    print(\"Spathiphyllum! Not \"+ plant +\"!\")"
      ],
      "metadata": {
        "colab": {
          "base_uri": "https://localhost:8080/"
        },
        "id": "Vsr5Suxzf4nU",
        "outputId": "5034f220-0fa1-44e7-c94a-5a072bed1514"
      },
      "execution_count": 13,
      "outputs": [
        {
          "output_type": "stream",
          "name": "stdout",
          "text": [
            "Please input a best plant = rose\n",
            "Spathiphyllum! Not rose!\n"
          ]
        }
      ]
    },
    {
      "cell_type": "code",
      "source": [
        "income = float(input(\"Enter the annual income: \"))\n",
        "tax = 0\n",
        "\n",
        "if income<85528:\n",
        "    tax = 0.18 * income - 556.2\n",
        "else:\n",
        "    tax = 14839 + 0.2 + 0.32 * (income - 85528)\n",
        "\n",
        "tax = round(tax, 0)\n",
        "\n",
        "if tax<0:\n",
        "    tax = 0\n",
        "\n",
        "print(\"The tax is:\", tax, \"thalers\")"
      ],
      "metadata": {
        "colab": {
          "base_uri": "https://localhost:8080/"
        },
        "id": "dvXDB-KggASN",
        "outputId": "fb9a59fe-4fb0-43de-fb38-842aa4461a8a"
      },
      "execution_count": 14,
      "outputs": [
        {
          "output_type": "stream",
          "name": "stdout",
          "text": [
            "Enter the annual income: 13000000\n",
            "The tax is: 4147470.0 thalers\n"
          ]
        }
      ]
    },
    {
      "cell_type": "code",
      "source": [
        "year = int(input(\"Enter a year: \"))\n",
        "\n",
        "if year < 1582:\n",
        "    print(\"Not within the Gregorian calender period\")\n",
        "else :\n",
        "    if year % 4 !=0 :\n",
        "        print(\"common year\")\n",
        "    elif year % 100 !=0:\n",
        "        print (\"leap year\")\n",
        "    elif year % 400 !=0:\n",
        "        print(\"common year\")\n",
        "    else :\n",
        "        print(\"leap year\")"
      ],
      "metadata": {
        "colab": {
          "base_uri": "https://localhost:8080/"
        },
        "id": "pPzGrc5tgMkg",
        "outputId": "8da7fd33-f3ca-48f2-857a-355370e7efd8"
      },
      "execution_count": 15,
      "outputs": [
        {
          "output_type": "stream",
          "name": "stdout",
          "text": [
            "Enter a year: 2025\n",
            "common year\n"
          ]
        }
      ]
    },
    {
      "cell_type": "code",
      "source": [
        "x = 5\n",
        "y = 10\n",
        "z = 8\n",
        "\n",
        "print(x > y)\n",
        "print(y > z)"
      ],
      "metadata": {
        "colab": {
          "base_uri": "https://localhost:8080/"
        },
        "id": "qEeGNy0AgQlH",
        "outputId": "ba498551-a612-485a-8311-6781a3e0bad1"
      },
      "execution_count": 16,
      "outputs": [
        {
          "output_type": "stream",
          "name": "stdout",
          "text": [
            "False\n",
            "True\n"
          ]
        }
      ]
    },
    {
      "cell_type": "code",
      "source": [
        "x, y, z = 5, 10, 8\n",
        "\n",
        "print(x > z)\n",
        "print((y - 5) == x)"
      ],
      "metadata": {
        "colab": {
          "base_uri": "https://localhost:8080/"
        },
        "id": "Bq_lw_1ngSPa",
        "outputId": "ed0ff4fa-e8eb-47f7-e9a7-90589543dad7"
      },
      "execution_count": 17,
      "outputs": [
        {
          "output_type": "stream",
          "name": "stdout",
          "text": [
            "False\n",
            "True\n"
          ]
        }
      ]
    },
    {
      "cell_type": "code",
      "source": [
        "x, y, z = 5, 10, 8\n",
        "x, y, z = z, y, x\n",
        "\n",
        "print(x > z)\n",
        "print((y - 5) == x)"
      ],
      "metadata": {
        "colab": {
          "base_uri": "https://localhost:8080/"
        },
        "id": "mZJhQff2gVLQ",
        "outputId": "dd12a00a-1758-4547-d9f7-039070da7c0b"
      },
      "execution_count": 18,
      "outputs": [
        {
          "output_type": "stream",
          "name": "stdout",
          "text": [
            "True\n",
            "False\n"
          ]
        }
      ]
    },
    {
      "cell_type": "code",
      "source": [
        "x = 10\n",
        "\n",
        "if x == 10:\n",
        "    print(x == 10)\n",
        "\n",
        "if x > 5:\n",
        "    print(x > 5)\n",
        "\n",
        "if x < 10:\n",
        "    print(x < 10)\n",
        "else:\n",
        "    print(\"else\")"
      ],
      "metadata": {
        "colab": {
          "base_uri": "https://localhost:8080/"
        },
        "id": "DHAJ6_n_gWsp",
        "outputId": "a20e9324-49dd-442e-e83f-64bd4c88f968"
      },
      "execution_count": 19,
      "outputs": [
        {
          "output_type": "stream",
          "name": "stdout",
          "text": [
            "True\n",
            "True\n",
            "else\n"
          ]
        }
      ]
    },
    {
      "cell_type": "code",
      "source": [
        "x = \"1\"\n",
        "\n",
        "if x == 1:\n",
        "    print(\"one\")\n",
        "elif x == \"1\":\n",
        "    if int(x) > 1:\n",
        "        print(\"two\")\n",
        "    elif int(x) < 1:\n",
        "        print(\"three\")\n",
        "    else:\n",
        "        print(\"four\")\n",
        "\n",
        "if int(x) == 1:\n",
        "    print(\"five\")\n",
        "else:\n",
        "    print(\"six\")"
      ],
      "metadata": {
        "colab": {
          "base_uri": "https://localhost:8080/"
        },
        "id": "Ce6GUGAVgYIY",
        "outputId": "341cb4c0-4a48-40cd-bece-d96996a1e7d4"
      },
      "execution_count": 20,
      "outputs": [
        {
          "output_type": "stream",
          "name": "stdout",
          "text": [
            "four\n",
            "five\n"
          ]
        }
      ]
    },
    {
      "cell_type": "code",
      "source": [
        "x = 1\n",
        "y = 1.0\n",
        "z = \"1\"\n",
        "\n",
        "if x == y:\n",
        "    print(\"one\")\n",
        "if y == z:\n",
        "    print(\"two\")\n",
        "    print(x)\n",
        "    print(y)\n",
        "elif x == y:\n",
        "    print(\"three\")\n",
        "else:\n",
        "    print(\"four\")"
      ],
      "metadata": {
        "colab": {
          "base_uri": "https://localhost:8080/"
        },
        "id": "U3PtISTjgbBI",
        "outputId": "244e5384-d8ef-475a-d39a-0c6a1f8cdc31"
      },
      "execution_count": 21,
      "outputs": [
        {
          "output_type": "stream",
          "name": "stdout",
          "text": [
            "one\n",
            "three\n"
          ]
        }
      ]
    },
    {
      "cell_type": "code",
      "source": [
        "i = 1\n",
        "\n",
        "while i<10:\n",
        "    print(i**2)\n",
        "    i = i+2"
      ],
      "metadata": {
        "colab": {
          "base_uri": "https://localhost:8080/"
        },
        "id": "g0oQlJ_7gcWh",
        "outputId": "c2940f70-fab5-4230-a784-f68b81cd3f56"
      },
      "execution_count": 22,
      "outputs": [
        {
          "output_type": "stream",
          "name": "stdout",
          "text": [
            "1\n",
            "9\n",
            "25\n",
            "49\n",
            "81\n"
          ]
        }
      ]
    },
    {
      "cell_type": "code",
      "source": [
        "# program that reads a sequence of numbers\n",
        "# and counts how many numbers are even and how many are odd\n",
        "# program terminates when zero is entered\n",
        "\n",
        "oddNumbers = 0\n",
        "evenNumbers = 0\n",
        "\n",
        "# read the first number\n",
        "number = int(input(\"Enter a number or type 0 to stop: \"))\n",
        "\n",
        "# 0 terminates execution\n",
        "while number != 0:\n",
        "    # check if the number is odd\n",
        "    if number % 2 == 1:\n",
        "        # increase the oddNumbers counter\n",
        "        oddNumbers += 1\n",
        "    else:\n",
        "        # increase the evenNumbers counter\n",
        "        evenNumbers += 1\n",
        "    # read the next number\n",
        "    number = int(input(\"Enter a number or type 0 to stop: \"))\n",
        "\n",
        "# print results\n",
        "print(\"Odd numbers count:\", oddNumbers)\n",
        "print(\"Even numbers count:\", evenNumbers)"
      ],
      "metadata": {
        "colab": {
          "base_uri": "https://localhost:8080/"
        },
        "id": "pDDz1dG-gdsp",
        "outputId": "61f122a4-2499-4a68-fc48-ec49ae356e78"
      },
      "execution_count": 23,
      "outputs": [
        {
          "output_type": "stream",
          "name": "stdout",
          "text": [
            "Enter a number or type 0 to stop: 2\n",
            "Enter a number or type 0 to stop: 3\n",
            "Enter a number or type 0 to stop: 0\n",
            "Odd numbers count: 1\n",
            "Even numbers count: 1\n"
          ]
        }
      ]
    },
    {
      "cell_type": "code",
      "source": [
        "secretNum = 777\n",
        "\n",
        "guessNum = 0\n",
        "\n",
        "while guessNum != secretNum:\n",
        "    guessNum = int(input(\"Input angka rahasia untuk berhenti : \"))\n",
        "    if guessNum != secretNum:\n",
        "        print(\"Perulangan akan terus lanjut...\")\n",
        "\n",
        "print(\"Well done, Congrats...\")"
      ],
      "metadata": {
        "colab": {
          "base_uri": "https://localhost:8080/"
        },
        "id": "Y_1XUNARgiZx",
        "outputId": "207e2607-3180-4f32-9a53-708845932128"
      },
      "execution_count": 24,
      "outputs": [
        {
          "output_type": "stream",
          "name": "stdout",
          "text": [
            "Input angka rahasia untuk berhenti : 3\n",
            "Perulangan akan terus lanjut...\n",
            "Input angka rahasia untuk berhenti : 2\n",
            "Perulangan akan terus lanjut...\n",
            "Input angka rahasia untuk berhenti : 1\n",
            "Perulangan akan terus lanjut...\n",
            "Input angka rahasia untuk berhenti : 0\n",
            "Perulangan akan terus lanjut...\n",
            "Input angka rahasia untuk berhenti : 9\n",
            "Perulangan akan terus lanjut...\n",
            "Input angka rahasia untuk berhenti : 777\n",
            "Well done, Congrats...\n"
          ]
        }
      ]
    },
    {
      "cell_type": "code",
      "source": [
        "for i in range(5):\n",
        "    print(i)"
      ],
      "metadata": {
        "colab": {
          "base_uri": "https://localhost:8080/"
        },
        "id": "9r61bK5rgrAq",
        "outputId": "bc6f1345-e50d-40be-ce31-181f2e880991"
      },
      "execution_count": 25,
      "outputs": [
        {
          "output_type": "stream",
          "name": "stdout",
          "text": [
            "0\n",
            "1\n",
            "2\n",
            "3\n",
            "4\n"
          ]
        }
      ]
    },
    {
      "cell_type": "code",
      "source": [
        "for i in range(2,8):\n",
        "    print(i)"
      ],
      "metadata": {
        "colab": {
          "base_uri": "https://localhost:8080/"
        },
        "id": "TX2Q56zwgstT",
        "outputId": "3c735499-f0bb-4aa1-b9e2-77692be4bb87"
      },
      "execution_count": 26,
      "outputs": [
        {
          "output_type": "stream",
          "name": "stdout",
          "text": [
            "2\n",
            "3\n",
            "4\n",
            "5\n",
            "6\n",
            "7\n"
          ]
        }
      ]
    },
    {
      "cell_type": "code",
      "source": [
        "for i in range(2,18,3):\n",
        "    print(i)"
      ],
      "metadata": {
        "colab": {
          "base_uri": "https://localhost:8080/"
        },
        "id": "QDXFm6j3gubD",
        "outputId": "fbb6c993-d52b-413c-a7ef-8d3ea55b105d"
      },
      "execution_count": 27,
      "outputs": [
        {
          "output_type": "stream",
          "name": "stdout",
          "text": [
            "2\n",
            "5\n",
            "8\n",
            "11\n",
            "14\n",
            "17\n"
          ]
        }
      ]
    },
    {
      "cell_type": "code",
      "source": [
        "for i in range(5):\n",
        "    print(i)\n",
        "else:\n",
        "    print(\"masuk else\")"
      ],
      "metadata": {
        "colab": {
          "base_uri": "https://localhost:8080/"
        },
        "id": "s_BPB2y4gyWL",
        "outputId": "46327926-9929-46b8-83e2-65746e621329"
      },
      "execution_count": 28,
      "outputs": [
        {
          "output_type": "stream",
          "name": "stdout",
          "text": [
            "0\n",
            "1\n",
            "2\n",
            "3\n",
            "4\n",
            "masuk else\n"
          ]
        }
      ]
    },
    {
      "cell_type": "code",
      "source": [
        "import time\n",
        "\n",
        "for i in range(5):\n",
        "    print(i,\" Missisipi\")\n",
        "    time.sleep(1)"
      ],
      "metadata": {
        "colab": {
          "base_uri": "https://localhost:8080/"
        },
        "id": "gYGLJkNCg0IM",
        "outputId": "9793ed3c-a539-42a8-b10d-9106c68b0a1e"
      },
      "execution_count": 29,
      "outputs": [
        {
          "output_type": "stream",
          "name": "stdout",
          "text": [
            "0  Missisipi\n",
            "1  Missisipi\n",
            "2  Missisipi\n",
            "3  Missisipi\n",
            "4  Missisipi\n"
          ]
        }
      ]
    },
    {
      "cell_type": "code",
      "source": [
        "for i in range (11):\n",
        "    print(i, end=\" \")\n",
        "    if i==7:\n",
        "        print(\" masih dalam for\")\n",
        "        break"
      ],
      "metadata": {
        "colab": {
          "base_uri": "https://localhost:8080/"
        },
        "id": "QJGsWiJMg1hc",
        "outputId": "396224a1-f79e-4d0f-9b9b-d13e07065f4e"
      },
      "execution_count": 30,
      "outputs": [
        {
          "output_type": "stream",
          "name": "stdout",
          "text": [
            "0 1 2 3 4 5 6 7  masih dalam for\n"
          ]
        }
      ]
    },
    {
      "cell_type": "code",
      "source": [
        "# break - example\n",
        "\n",
        "print(\"The break instruction:\")\n",
        "for i in range(1, 6):\n",
        "    if i == 3:\n",
        "        break\n",
        "    print(\"Inside the loop.\", i)\n",
        "print(\"Outside the loop.\")"
      ],
      "metadata": {
        "colab": {
          "base_uri": "https://localhost:8080/"
        },
        "id": "Cv5J3Yh2g37U",
        "outputId": "8a4e872f-b1cc-4286-94f4-e51467f65d7d"
      },
      "execution_count": 31,
      "outputs": [
        {
          "output_type": "stream",
          "name": "stdout",
          "text": [
            "The break instruction:\n",
            "Inside the loop. 1\n",
            "Inside the loop. 2\n",
            "Outside the loop.\n"
          ]
        }
      ]
    },
    {
      "cell_type": "code",
      "source": [
        "largestNumber = -99999999\n",
        "counter = 0\n",
        "\n",
        "while True:\n",
        "    number = int(input(\"Enter a number or type -1 to end program: \"))\n",
        "    if number == -1:\n",
        "        break\n",
        "    counter += 1\n",
        "    if number > largestNumber:\n",
        "        largestNumber = number\n",
        "\n",
        "if counter != 0:\n",
        "    print(\"The largest number is\", largestNumber)\n",
        "else:\n",
        "    print(\"You haven't entered any number.\")"
      ],
      "metadata": {
        "colab": {
          "base_uri": "https://localhost:8080/"
        },
        "id": "GXI7ouu-g5m0",
        "outputId": "75be8cde-318e-4bea-ea9c-2600249358c3"
      },
      "execution_count": 32,
      "outputs": [
        {
          "output_type": "stream",
          "name": "stdout",
          "text": [
            "Enter a number or type -1 to end program: 23\n",
            "Enter a number or type -1 to end program: 14\n",
            "Enter a number or type -1 to end program: 56\n",
            "Enter a number or type -1 to end program: 76\n",
            "Enter a number or type -1 to end program: -1\n",
            "The largest number is 76\n"
          ]
        }
      ]
    },
    {
      "cell_type": "code",
      "source": [
        "for i in range (1,11):\n",
        "    if i % 2 ==0:\n",
        "        continue\n",
        "    print(i, end=\"\\t\")"
      ],
      "metadata": {
        "colab": {
          "base_uri": "https://localhost:8080/"
        },
        "id": "HzyF3ItZg-Sk",
        "outputId": "728f5374-0969-414d-a04d-02e627e032b1"
      },
      "execution_count": 33,
      "outputs": [
        {
          "output_type": "stream",
          "name": "stdout",
          "text": [
            "1\t3\t5\t7\t9\t"
          ]
        }
      ]
    },
    {
      "cell_type": "code",
      "source": [
        "for i in range (1,11):\n",
        "    if i % 2 ==0:\n",
        "        print(i)"
      ],
      "metadata": {
        "colab": {
          "base_uri": "https://localhost:8080/"
        },
        "id": "g2Botg2QhBMF",
        "outputId": "86eb4e34-2f0c-4e04-ed30-81e435b18525"
      },
      "execution_count": 34,
      "outputs": [
        {
          "output_type": "stream",
          "name": "stdout",
          "text": [
            "2\n",
            "4\n",
            "6\n",
            "8\n",
            "10\n"
          ]
        }
      ]
    },
    {
      "cell_type": "code",
      "source": [
        "# continue - example\n",
        "\n",
        "print(\"\\nThe continue instruction:\")\n",
        "for i in range(1, 6):\n",
        "    if i == 3:\n",
        "        continue\n",
        "    print(\"Inside the loop.\", i)\n",
        "print(\"Outside the loop.\")"
      ],
      "metadata": {
        "colab": {
          "base_uri": "https://localhost:8080/"
        },
        "id": "89E8fvfnhC_O",
        "outputId": "a5ee9736-ce75-4c3e-9621-5476f5e5769b"
      },
      "execution_count": 35,
      "outputs": [
        {
          "output_type": "stream",
          "name": "stdout",
          "text": [
            "\n",
            "The continue instruction:\n",
            "Inside the loop. 1\n",
            "Inside the loop. 2\n",
            "Inside the loop. 4\n",
            "Inside the loop. 5\n",
            "Outside the loop.\n"
          ]
        }
      ]
    },
    {
      "cell_type": "code",
      "source": [
        "largestNumber = -99999999\n",
        "counter = 0\n",
        "\n",
        "number = int(input(\"Enter a number or type -1 to end program: \"))\n",
        "\n",
        "while number != -1:\n",
        "    if number == -1:\n",
        "        continue\n",
        "    counter += 1\n",
        "\n",
        "    if number > largestNumber:\n",
        "        largestNumber = number\n",
        "    number = int(input(\"Enter a number or type -1 to end program: \"))\n",
        "\n",
        "if counter:\n",
        "    print(\"The largest number is\", largestNumber)\n",
        "else:\n",
        "    print(\"You haven't entered any number.\")"
      ],
      "metadata": {
        "colab": {
          "base_uri": "https://localhost:8080/"
        },
        "id": "owPZMHO9hKyO",
        "outputId": "1aea8ab2-49aa-450c-e9ad-ef05aa49d864"
      },
      "execution_count": 36,
      "outputs": [
        {
          "output_type": "stream",
          "name": "stdout",
          "text": [
            "Enter a number or type -1 to end program: 90\n",
            "Enter a number or type -1 to end program: 80\n",
            "Enter a number or type -1 to end program: 70\n",
            "Enter a number or type -1 to end program: 60\n",
            "Enter a number or type -1 to end program: 50\n",
            "Enter a number or type -1 to end program: -1\n",
            "The largest number is 90\n"
          ]
        }
      ]
    },
    {
      "cell_type": "code",
      "source": [
        "while True:\n",
        "    word = input(\"Masukkan Sebuah Kata untuk keluar dari perulangan = \")\n",
        "    if(word==\"chupacabra\"):\n",
        "        break\n",
        "\n",
        "print(\"You've successfully left the loop\")"
      ],
      "metadata": {
        "colab": {
          "base_uri": "https://localhost:8080/"
        },
        "id": "_yrDIWtjhRxf",
        "outputId": "befba681-3705-44d4-b440-d32776b563c8"
      },
      "execution_count": 37,
      "outputs": [
        {
          "output_type": "stream",
          "name": "stdout",
          "text": [
            "Masukkan Sebuah Kata untuk keluar dari perulangan = hahaha\n",
            "Masukkan Sebuah Kata untuk keluar dari perulangan = yuhuu\n",
            "Masukkan Sebuah Kata untuk keluar dari perulangan = chupacabra\n",
            "You've successfully left the loop\n"
          ]
        }
      ]
    },
    {
      "cell_type": "code",
      "source": [
        "# Prompt the user to enter a word\n",
        "# and assign it to the userWord variable.\n",
        "userWord = input(\"Masukkan sebuah kata = \")\n",
        "\n",
        "for letter in userWord:\n",
        "    if letter.upper() in ['A','I','U','E','O']:\n",
        "        continue\n",
        "\n",
        "    print(letter.upper())"
      ],
      "metadata": {
        "colab": {
          "base_uri": "https://localhost:8080/"
        },
        "id": "qbg-cmNhhZ1o",
        "outputId": "8fa0e4d3-a76f-419a-b57f-8c57832ab8e0"
      },
      "execution_count": 42,
      "outputs": [
        {
          "name": "stdout",
          "output_type": "stream",
          "text": [
            "Masukkan sebuah kata = AIUEO\n"
          ]
        }
      ]
    },
    {
      "cell_type": "code",
      "source": [
        "x=1\n",
        "while x<11:\n",
        "    if x % 2 !=0:\n",
        "        print(x,end=' ')\n",
        "    x +=1"
      ],
      "metadata": {
        "colab": {
          "base_uri": "https://localhost:8080/"
        },
        "id": "_qoW9IRYipri",
        "outputId": "de42f46e-36dd-4575-cfd3-58ff6d5062ce"
      },
      "execution_count": 43,
      "outputs": [
        {
          "output_type": "stream",
          "name": "stdout",
          "text": [
            "1 3 5 7 9 "
          ]
        }
      ]
    },
    {
      "cell_type": "code",
      "source": [
        "blocks = int(input(\"Enter the number of blocks: \"))\n",
        "current_block = 0\n",
        "height = 0\n",
        "i=0\n",
        "\n",
        "while i<blocks:\n",
        "    height += 1\n",
        "    current_block += height\n",
        "    # print(i,current_block)\n",
        "    if current_block> blocks:\n",
        "        break\n",
        "\n",
        "height -= 1\n",
        "\n",
        "print(\"The height of the pyramid:\", height)"
      ],
      "metadata": {
        "colab": {
          "base_uri": "https://localhost:8080/"
        },
        "id": "bdrWFjBcheqZ",
        "outputId": "27558b4c-3e8b-4679-ea2d-e738f6692ab2"
      },
      "execution_count": 39,
      "outputs": [
        {
          "output_type": "stream",
          "name": "stdout",
          "text": [
            "Enter the number of blocks: 9\n",
            "The height of the pyramid: 3\n"
          ]
        }
      ]
    },
    {
      "cell_type": "code",
      "source": [
        "for ch in \"ratna.lestari@ugm.ac.id\":\n",
        "    if ch == \"@\":\n",
        "        break\n",
        "    print(ch,end=' ')"
      ],
      "metadata": {
        "colab": {
          "base_uri": "https://localhost:8080/"
        },
        "id": "0g8B0qL7ir4p",
        "outputId": "e4070745-b8a8-466c-cf9d-ab2afd15649e"
      },
      "execution_count": 44,
      "outputs": [
        {
          "output_type": "stream",
          "name": "stdout",
          "text": [
            "r a t n a . l e s t a r i "
          ]
        }
      ]
    },
    {
      "cell_type": "code",
      "source": [
        "for digit in \"0165031806510\":\n",
        "    if digit == \"0\":\n",
        "        print (\"x\")\n",
        "        continue\n",
        "    print(digit)"
      ],
      "metadata": {
        "colab": {
          "base_uri": "https://localhost:8080/"
        },
        "id": "xzH-_RwMiuVS",
        "outputId": "c06a4f94-0e79-4aec-b39d-436269049155"
      },
      "execution_count": 45,
      "outputs": [
        {
          "output_type": "stream",
          "name": "stdout",
          "text": [
            "x\n",
            "1\n",
            "6\n",
            "5\n",
            "x\n",
            "3\n",
            "1\n",
            "8\n",
            "x\n",
            "6\n",
            "5\n",
            "1\n",
            "x\n"
          ]
        }
      ]
    },
    {
      "cell_type": "code",
      "source": [
        "n = 3\n",
        "\n",
        "while n > 0:\n",
        "    print(n + 1)\n",
        "    n -= 1\n",
        "else:\n",
        "    print(n)"
      ],
      "metadata": {
        "colab": {
          "base_uri": "https://localhost:8080/"
        },
        "id": "o454T3R2iy1T",
        "outputId": "f9524f72-21ab-461a-b73a-2d99c3f6c72b"
      },
      "execution_count": 46,
      "outputs": [
        {
          "output_type": "stream",
          "name": "stdout",
          "text": [
            "4\n",
            "3\n",
            "2\n",
            "0\n"
          ]
        }
      ]
    },
    {
      "cell_type": "code",
      "source": [
        "lst=[4,1,6,9,10,8]\n",
        "\n",
        "print(lst[0:3])\n",
        "print(lst[1:3])\n",
        "\n",
        "print(lst[-3:])\n",
        "print(lst[:-3])\n",
        "\n",
        "print(lst[:])"
      ],
      "metadata": {
        "colab": {
          "base_uri": "https://localhost:8080/"
        },
        "id": "lC2UsxiMi2dj",
        "outputId": "37b28182-ea3a-479b-b32f-44830402ff41"
      },
      "execution_count": 47,
      "outputs": [
        {
          "output_type": "stream",
          "name": "stdout",
          "text": [
            "[4, 1, 6]\n",
            "[1, 6]\n",
            "[9, 10, 8]\n",
            "[4, 1, 6]\n",
            "[4, 1, 6, 9, 10, 8]\n"
          ]
        }
      ]
    },
    {
      "cell_type": "code",
      "source": [
        "myList = [8, 10, 6, 2, 4] # list to sort\n",
        "swapped = True # it's a little fake - we need it to enter the while loop\n",
        "\n",
        "while swapped:\n",
        "    swapped = False # no swaps so far\n",
        "    for i in range(len(myList) - 1):\n",
        "        if myList[i] > myList[i + 1]:\n",
        "            swapped = True # swap occured!\n",
        "            myList[i], myList[i + 1] = myList[i + 1], myList[i]\n",
        "\n",
        "print(myList)"
      ],
      "metadata": {
        "colab": {
          "base_uri": "https://localhost:8080/"
        },
        "id": "qT-IIikui4vL",
        "outputId": "9d846b97-4bba-4209-d00f-b75b8539a466"
      },
      "execution_count": 48,
      "outputs": [
        {
          "output_type": "stream",
          "name": "stdout",
          "text": [
            "[2, 4, 6, 8, 10]\n"
          ]
        }
      ]
    },
    {
      "cell_type": "code",
      "source": [
        "hatList = [1, 2, 3, 4, 5]  # This is an existing list of numbers hidden in the hat.\n",
        "\n",
        "# Step 1: write a line of code that prompts the user\n",
        "# to replace the middle number with an integer number entered by the user.\n",
        "\n",
        "# Step 2: write a line of code here that removes the last element from the list.\n",
        "\n",
        "# Step 3: write a line of code here that prints the length of the existing list.\n",
        "\n",
        "print(hatList)"
      ],
      "metadata": {
        "colab": {
          "base_uri": "https://localhost:8080/"
        },
        "id": "o5-ZFDovi7Xb",
        "outputId": "cabe2c5a-e765-4e5d-fee8-c76d4d2d291a"
      },
      "execution_count": 49,
      "outputs": [
        {
          "output_type": "stream",
          "name": "stdout",
          "text": [
            "[1, 2, 3, 4, 5]\n"
          ]
        }
      ]
    },
    {
      "cell_type": "code",
      "source": [
        "buah = [\"durian\", \"mangga\", \"apel\"]\n",
        "buah.insert(1,\"kiwi\")\n",
        "print (buah)"
      ],
      "metadata": {
        "colab": {
          "base_uri": "https://localhost:8080/"
        },
        "id": "d4wHw-UUi_1t",
        "outputId": "4597e40c-21a6-4ac4-f68e-45d5b34a061d"
      },
      "execution_count": 50,
      "outputs": [
        {
          "output_type": "stream",
          "name": "stdout",
          "text": [
            "['durian', 'kiwi', 'mangga', 'apel']\n"
          ]
        }
      ]
    },
    {
      "cell_type": "code",
      "source": [
        "numbers = [111, 7, 2, 1]\n",
        "print(len(numbers))\n",
        "print(numbers)\n",
        "\n",
        "###\n",
        "\n",
        "numbers.append(4)\n",
        "\n",
        "print(len(numbers))\n",
        "print(numbers)\n",
        "\n",
        "###\n",
        "\n",
        "numbers.insert(0, 222)\n",
        "print(len(numbers))\n",
        "print(numbers)\n",
        "\n",
        "#"
      ],
      "metadata": {
        "colab": {
          "base_uri": "https://localhost:8080/"
        },
        "id": "W79_6eX-jB5k",
        "outputId": "fdb31fe4-a9d7-4b78-e652-6fe896805786"
      },
      "execution_count": 51,
      "outputs": [
        {
          "output_type": "stream",
          "name": "stdout",
          "text": [
            "4\n",
            "[111, 7, 2, 1]\n",
            "5\n",
            "[111, 7, 2, 1, 4]\n",
            "6\n",
            "[222, 111, 7, 2, 1, 4]\n"
          ]
        }
      ]
    },
    {
      "cell_type": "code",
      "source": [
        "# step 1\n",
        "beatles = []\n",
        "print(\"Step 1:\", beatles)\n",
        "\n",
        "# step 2\n",
        "beatles.append(\"John Lennon\")\n",
        "beatles.append(\"Paul McCartney\")\n",
        "beatles.append(\"George Harrison\")\n",
        "print(\"Step 2:\", beatles)\n",
        "\n",
        "# step 3\n",
        "for i in range(2):\n",
        "    nama = input(\"Masukkan anggota baru = \")\n",
        "    beatles.append(nama)\n",
        "print(\"Step 3:\", beatles)\n",
        "\n",
        "# step 4\n",
        "del beatles[-2:]\n",
        "print(\"Step 4:\", beatles)\n",
        "\n",
        "# step 5\n",
        "beatles.insert(0,\"Ringo Starr\")\n",
        "print(\"Step 5:\", beatles)\n",
        "\n",
        "\n",
        "# testing list legth\n",
        "print(\"The Fab\", len(beatles))"
      ],
      "metadata": {
        "colab": {
          "base_uri": "https://localhost:8080/"
        },
        "id": "7jEysMJqjD6s",
        "outputId": "8659a230-f4d8-43bb-b038-ba92d4132365"
      },
      "execution_count": 52,
      "outputs": [
        {
          "output_type": "stream",
          "name": "stdout",
          "text": [
            "Step 1: []\n",
            "Step 2: ['John Lennon', 'Paul McCartney', 'George Harrison']\n",
            "Masukkan anggota baru = Aubin\n",
            "Masukkan anggota baru = Ringo Starr\n",
            "Step 3: ['John Lennon', 'Paul McCartney', 'George Harrison', 'Aubin', 'Ringo Starr']\n",
            "Step 4: ['John Lennon', 'Paul McCartney', 'George Harrison']\n",
            "Step 5: ['Ringo Starr', 'John Lennon', 'Paul McCartney', 'George Harrison']\n",
            "The Fab 4\n"
          ]
        }
      ]
    },
    {
      "cell_type": "code",
      "source": [
        "for i in range(10):\n",
        "    print(i, end=\" \")\n",
        "\n",
        "print()\n",
        "for i in range(1,7):\n",
        "    print(i, end=\" \")\n",
        "\n",
        "print()\n",
        "for i in range(1,10,2):\n",
        "    print(i, end=\" \")\n",
        "\n",
        "print()\n",
        "for i in range(10,-10,-2):\n",
        "    print(i, end=\" \")"
      ],
      "metadata": {
        "colab": {
          "base_uri": "https://localhost:8080/"
        },
        "id": "KaruiCwMjTCX",
        "outputId": "ae9bac90-a522-4d2b-dce3-62bd9d01ff78"
      },
      "execution_count": 53,
      "outputs": [
        {
          "output_type": "stream",
          "name": "stdout",
          "text": [
            "0 1 2 3 4 5 6 7 8 9 \n",
            "1 2 3 4 5 6 \n",
            "1 3 5 7 9 \n",
            "10 8 6 4 2 0 -2 -4 -6 -8 "
          ]
        }
      ]
    },
    {
      "cell_type": "code",
      "source": [
        "EMPTY = \"-\"\n",
        "LIMALIMA = \"LIMA\"\n",
        "ROOK = \"ROOK\"\n",
        "KNIGHT = \"KNIGHT\"\n",
        "PAWN = \"PAWN\"\n",
        "board = []\n",
        "\n",
        "for i in range(8):\n",
        "    row = [EMPTY for i in range(8)]\n",
        "    board.append(row)\n",
        "\n",
        "#isi dengan ROOK\n",
        "board[0][0] = ROOK\n",
        "board[5][5] = LIMALIMA\n",
        "board[0][7] = ROOK\n",
        "board[7][0] = ROOK\n",
        "board[7][7] = ROOK\n",
        "\n",
        "#isi dengan KNIGHT\n",
        "board[4][2] = KNIGHT\n",
        "\n",
        "#isi dengan PAWN\n",
        "board[3][4] = PAWN\n",
        "\n",
        "\n",
        "print(board)\n",
        "print(\"\\n\")"
      ],
      "metadata": {
        "colab": {
          "base_uri": "https://localhost:8080/"
        },
        "id": "XnJXTSyljVzf",
        "outputId": "ea0f5026-6fbd-492c-8f93-13cf588fb96c"
      },
      "execution_count": 54,
      "outputs": [
        {
          "output_type": "stream",
          "name": "stdout",
          "text": [
            "[['ROOK', '-', '-', '-', '-', '-', '-', 'ROOK'], ['-', '-', '-', '-', '-', '-', '-', '-'], ['-', '-', '-', '-', '-', '-', '-', '-'], ['-', '-', '-', '-', 'PAWN', '-', '-', '-'], ['-', '-', 'KNIGHT', '-', '-', '-', '-', '-'], ['-', '-', '-', '-', '-', 'LIMA', '-', '-'], ['-', '-', '-', '-', '-', '-', '-', '-'], ['ROOK', '-', '-', '-', '-', '-', '-', 'ROOK']]\n",
            "\n",
            "\n"
          ]
        }
      ]
    },
    {
      "cell_type": "code",
      "source": [
        "temps = [[0.0 for h in range(24)] for d in range(31)]\n",
        "\n",
        "# 1. the monthly average noon temperature\n",
        "sum = 0.0\n",
        "\n",
        "for day in temps:\n",
        "    sum += day[11]\n",
        "\n",
        "average = sum / 31\n",
        "\n",
        "print(\"Average temperature at noon:\", average)\n",
        "\n",
        "# 2. the highest temperature during the whole month\n",
        "highest = -100.0\n",
        "\n",
        "for day in temps:\n",
        "    for temp in day:\n",
        "        if temp > highest:\n",
        "            highest = temp\n",
        "\n",
        "print(\"The highest temperature was:\", highest)\n",
        "\n",
        "# 3.count the days when the temperature at noon was at least 20 ℃\n",
        "hotDays = 0\n",
        "\n",
        "for day in temps:\n",
        "    if day[11] > 20.0:\n",
        "        hotDays += 1\n",
        "\n",
        "print(hotDays, \"days were hot.\")"
      ],
      "metadata": {
        "colab": {
          "base_uri": "https://localhost:8080/"
        },
        "id": "fseYjDQFja8K",
        "outputId": "179981d8-c7de-40c3-f57e-3ae3d6dca2c5"
      },
      "execution_count": 55,
      "outputs": [
        {
          "output_type": "stream",
          "name": "stdout",
          "text": [
            "Average temperature at noon: 0.0\n",
            "The highest temperature was: 0.0\n",
            "0 days were hot.\n"
          ]
        }
      ]
    },
    {
      "cell_type": "code",
      "source": [
        "rooms = [[[False for r in range(20)] for f in range(15)] for t in range(3)]\n",
        "\n",
        "rooms[1][9][13] = True\n",
        "rooms[0][4][1] = False\n",
        "\n",
        "print(rooms)\n",
        "\n",
        "vacancy = 0\n",
        "\n",
        "for roomNumber in range(20):\n",
        "    if not rooms[2][14][roomNumber]:\n",
        "        vacancy += 1\n",
        "\n",
        "print(roomNumber)"
      ],
      "metadata": {
        "colab": {
          "base_uri": "https://localhost:8080/"
        },
        "id": "uV37yqqPjeWB",
        "outputId": "6f44888d-b909-4654-a090-8f72bf1458f3"
      },
      "execution_count": 56,
      "outputs": [
        {
          "output_type": "stream",
          "name": "stdout",
          "text": [
            "[[[False, False, False, False, False, False, False, False, False, False, False, False, False, False, False, False, False, False, False, False], [False, False, False, False, False, False, False, False, False, False, False, False, False, False, False, False, False, False, False, False], [False, False, False, False, False, False, False, False, False, False, False, False, False, False, False, False, False, False, False, False], [False, False, False, False, False, False, False, False, False, False, False, False, False, False, False, False, False, False, False, False], [False, False, False, False, False, False, False, False, False, False, False, False, False, False, False, False, False, False, False, False], [False, False, False, False, False, False, False, False, False, False, False, False, False, False, False, False, False, False, False, False], [False, False, False, False, False, False, False, False, False, False, False, False, False, False, False, False, False, False, False, False], [False, False, False, False, False, False, False, False, False, False, False, False, False, False, False, False, False, False, False, False], [False, False, False, False, False, False, False, False, False, False, False, False, False, False, False, False, False, False, False, False], [False, False, False, False, False, False, False, False, False, False, False, False, False, False, False, False, False, False, False, False], [False, False, False, False, False, False, False, False, False, False, False, False, False, False, False, False, False, False, False, False], [False, False, False, False, False, False, False, False, False, False, False, False, False, False, False, False, False, False, False, False], [False, False, False, False, False, False, False, False, False, False, False, False, False, False, False, False, False, False, False, False], [False, False, False, False, False, False, False, False, False, False, False, False, False, False, False, False, False, False, False, False], [False, False, False, False, False, False, False, False, False, False, False, False, False, False, False, False, False, False, False, False]], [[False, False, False, False, False, False, False, False, False, False, False, False, False, False, False, False, False, False, False, False], [False, False, False, False, False, False, False, False, False, False, False, False, False, False, False, False, False, False, False, False], [False, False, False, False, False, False, False, False, False, False, False, False, False, False, False, False, False, False, False, False], [False, False, False, False, False, False, False, False, False, False, False, False, False, False, False, False, False, False, False, False], [False, False, False, False, False, False, False, False, False, False, False, False, False, False, False, False, False, False, False, False], [False, False, False, False, False, False, False, False, False, False, False, False, False, False, False, False, False, False, False, False], [False, False, False, False, False, False, False, False, False, False, False, False, False, False, False, False, False, False, False, False], [False, False, False, False, False, False, False, False, False, False, False, False, False, False, False, False, False, False, False, False], [False, False, False, False, False, False, False, False, False, False, False, False, False, False, False, False, False, False, False, False], [False, False, False, False, False, False, False, False, False, False, False, False, False, True, False, False, False, False, False, False], [False, False, False, False, False, False, False, False, False, False, False, False, False, False, False, False, False, False, False, False], [False, False, False, False, False, False, False, False, False, False, False, False, False, False, False, False, False, False, False, False], [False, False, False, False, False, False, False, False, False, False, False, False, False, False, False, False, False, False, False, False], [False, False, False, False, False, False, False, False, False, False, False, False, False, False, False, False, False, False, False, False], [False, False, False, False, False, False, False, False, False, False, False, False, False, False, False, False, False, False, False, False]], [[False, False, False, False, False, False, False, False, False, False, False, False, False, False, False, False, False, False, False, False], [False, False, False, False, False, False, False, False, False, False, False, False, False, False, False, False, False, False, False, False], [False, False, False, False, False, False, False, False, False, False, False, False, False, False, False, False, False, False, False, False], [False, False, False, False, False, False, False, False, False, False, False, False, False, False, False, False, False, False, False, False], [False, False, False, False, False, False, False, False, False, False, False, False, False, False, False, False, False, False, False, False], [False, False, False, False, False, False, False, False, False, False, False, False, False, False, False, False, False, False, False, False], [False, False, False, False, False, False, False, False, False, False, False, False, False, False, False, False, False, False, False, False], [False, False, False, False, False, False, False, False, False, False, False, False, False, False, False, False, False, False, False, False], [False, False, False, False, False, False, False, False, False, False, False, False, False, False, False, False, False, False, False, False], [False, False, False, False, False, False, False, False, False, False, False, False, False, False, False, False, False, False, False, False], [False, False, False, False, False, False, False, False, False, False, False, False, False, False, False, False, False, False, False, False], [False, False, False, False, False, False, False, False, False, False, False, False, False, False, False, False, False, False, False, False], [False, False, False, False, False, False, False, False, False, False, False, False, False, False, False, False, False, False, False, False], [False, False, False, False, False, False, False, False, False, False, False, False, False, False, False, False, False, False, False, False], [False, False, False, False, False, False, False, False, False, False, False, False, False, False, False, False, False, False, False, False]]]\n",
            "19\n"
          ]
        }
      ]
    },
    {
      "cell_type": "code",
      "source": [
        "# Motivasi function adalah perulangan kode\n",
        "\n",
        "print(\"Angka 1 :\")\n",
        "a = int(input())\n",
        "print(a)\n",
        "\n",
        "print(\"Angka 2 :\")\n",
        "b = int(input())\n",
        "print(b)\n",
        "\n",
        "print(\"Angka 3 :\")\n",
        "c = int(input())\n",
        "print(c)"
      ],
      "metadata": {
        "colab": {
          "base_uri": "https://localhost:8080/"
        },
        "id": "VTeJ1xKmjuEj",
        "outputId": "9083166d-0985-4d42-e3e9-85205afcc48f"
      },
      "execution_count": 57,
      "outputs": [
        {
          "output_type": "stream",
          "name": "stdout",
          "text": [
            "Angka 1 :\n",
            "4\n",
            "4\n",
            "Angka 2 :\n",
            "5\n",
            "5\n",
            "Angka 3 :\n",
            "8\n",
            "8\n"
          ]
        }
      ]
    },
    {
      "cell_type": "code",
      "source": [
        "def inputAngka():\n",
        "    print(\"Input Angka :\")\n",
        "    a = int(input())\n",
        "    print(a)\n",
        "\n",
        "print(\"Start disini... \")\n",
        "\n",
        "inputAngka()\n",
        "inputAngka()\n",
        "inputAngka()\n",
        "\n",
        "print(\"Stop disini... \")"
      ],
      "metadata": {
        "colab": {
          "base_uri": "https://localhost:8080/"
        },
        "id": "vQdqArKKj5pj",
        "outputId": "f8fac642-d3e6-44fc-adf2-2b744d0d7349"
      },
      "execution_count": 58,
      "outputs": [
        {
          "output_type": "stream",
          "name": "stdout",
          "text": [
            "Start disini... \n",
            "Input Angka :\n",
            "1\n",
            "1\n",
            "Input Angka :\n",
            "2\n",
            "2\n",
            "Input Angka :\n",
            "3\n",
            "3\n",
            "Stop disini... \n"
          ]
        }
      ]
    },
    {
      "cell_type": "code",
      "source": [
        "def pesan(m):\n",
        "    print(\"Pesan \",m.lower())\n",
        "\n",
        "pesan(\"Hallo\")\n",
        "pesan(\"Namanya siapa ?\")"
      ],
      "metadata": {
        "colab": {
          "base_uri": "https://localhost:8080/"
        },
        "id": "mSlJGBUUkC48",
        "outputId": "845aeceb-904d-49c9-84cf-d5e4f989aff7"
      },
      "execution_count": 59,
      "outputs": [
        {
          "output_type": "stream",
          "name": "stdout",
          "text": [
            "Pesan  hallo\n",
            "Pesan  namanya siapa ?\n"
          ]
        }
      ]
    },
    {
      "cell_type": "code",
      "source": [
        "def pesan(nama, nohp):\n",
        "    print(\"Nama : \",nama, \"No Hp : \",nohp)\n",
        "\n",
        "pesan(\"Abu\", 123)\n",
        "pesan(\"Abu\", \"0817244\")"
      ],
      "metadata": {
        "colab": {
          "base_uri": "https://localhost:8080/"
        },
        "id": "vzNgksSAkIPO",
        "outputId": "c09c82f5-8dff-497a-8b8b-1dea3a38b340"
      },
      "execution_count": 60,
      "outputs": [
        {
          "output_type": "stream",
          "name": "stdout",
          "text": [
            "Nama :  Abu No Hp :  123\n",
            "Nama :  Abu No Hp :  0817244\n"
          ]
        }
      ]
    },
    {
      "cell_type": "code",
      "source": [
        "def tambahUsia(nama, umur):\n",
        "    umur = umur + 0.5\n",
        "    print(nama, umur)\n",
        "\n",
        "tambahUsia(\"Abu Salam\", 30)"
      ],
      "metadata": {
        "colab": {
          "base_uri": "https://localhost:8080/"
        },
        "id": "5PUoz4kFkJmF",
        "outputId": "d00696e2-a776-4968-a5b7-d611e9753e7e"
      },
      "execution_count": 61,
      "outputs": [
        {
          "output_type": "stream",
          "name": "stdout",
          "text": [
            "Abu Salam 30.5\n"
          ]
        }
      ]
    },
    {
      "cell_type": "code",
      "source": [
        "def perkenalan(namaDepan, namaBelakang):\n",
        "    print(\"Hallo namanya adalah : \", namaDepan, namaBelakang)\n",
        "\n",
        "perkenalan(\"Abu\",\"Salam\")\n",
        "perkenalan(\"Dhita\",\"Aulia\")"
      ],
      "metadata": {
        "colab": {
          "base_uri": "https://localhost:8080/"
        },
        "id": "XGmfreJRkLf9",
        "outputId": "5ab29d6b-c851-4e82-b5ee-72174103c223"
      },
      "execution_count": 62,
      "outputs": [
        {
          "output_type": "stream",
          "name": "stdout",
          "text": [
            "Hallo namanya adalah :  Abu Salam\n",
            "Hallo namanya adalah :  Dhita Aulia\n"
          ]
        }
      ]
    },
    {
      "cell_type": "code",
      "source": [
        "perkenalan(namaDepan = \"Abu2\", namaBelakang = \"salam2\")\n",
        "perkenalan(namaBelakang = \"aulia2\", namaDepan = \"dhita2\")"
      ],
      "metadata": {
        "colab": {
          "base_uri": "https://localhost:8080/"
        },
        "id": "2C-jOZ4-kM-d",
        "outputId": "aa60f19e-dbbf-4165-a9f2-2c5a4e7160ce"
      },
      "execution_count": 63,
      "outputs": [
        {
          "output_type": "stream",
          "name": "stdout",
          "text": [
            "Hallo namanya adalah :  Abu2 salam2\n",
            "Hallo namanya adalah :  dhita2 aulia2\n"
          ]
        }
      ]
    },
    {
      "cell_type": "code",
      "source": [
        "def jumlah(a, b, c):\n",
        "    print(a, \"+\", b, \"+\", c, \"=\", a + b + c)\n",
        "\n",
        "jumlah(5,5,4)"
      ],
      "metadata": {
        "colab": {
          "base_uri": "https://localhost:8080/"
        },
        "id": "NXeW1GMPkQV-",
        "outputId": "78f35f86-dd1f-4598-f666-72721050570a"
      },
      "execution_count": 64,
      "outputs": [
        {
          "output_type": "stream",
          "name": "stdout",
          "text": [
            "5 + 5 + 4 = 14\n"
          ]
        }
      ]
    },
    {
      "cell_type": "code",
      "source": [
        "def introduction(firstName=\"John\",lastName=\"Smith\"):\n",
        "    print(\"Hello, my name is\", firstName, lastName)\n",
        "\n",
        "#Call the Function here\n",
        "introduction(firstName=\"Abu\")\n",
        "introduction(firstName=\"Abu\", lastName=\"Salam\")\n",
        "introduction(\"Abu\", lastName=\"Salam\")"
      ],
      "metadata": {
        "colab": {
          "base_uri": "https://localhost:8080/"
        },
        "id": "azu58JoUkTVO",
        "outputId": "945275e7-7f24-44e9-ebef-01472356734c"
      },
      "execution_count": 65,
      "outputs": [
        {
          "output_type": "stream",
          "name": "stdout",
          "text": [
            "Hello, my name is Abu Smith\n",
            "Hello, my name is Abu Salam\n",
            "Hello, my name is Abu Salam\n"
          ]
        }
      ]
    },
    {
      "cell_type": "code",
      "source": [
        "def introductionLengkap(firstName, lastName, middleName=\"Guntur\"):\n",
        "    print(\"Hello, my name is\", firstName, middleName, lastName)\n",
        "\n",
        "#Call the Function here\n",
        "introductionLengkap(firstName=\"Abu\", lastName=\"Salam\", middleName=\"alex\")"
      ],
      "metadata": {
        "colab": {
          "base_uri": "https://localhost:8080/"
        },
        "id": "LDD9GnhikUsu",
        "outputId": "e0b5de8a-aef8-4d39-ea0d-fe422f7f8e92"
      },
      "execution_count": 66,
      "outputs": [
        {
          "output_type": "stream",
          "name": "stdout",
          "text": [
            "Hello, my name is Abu alex Salam\n"
          ]
        }
      ]
    },
    {
      "cell_type": "code",
      "source": [
        "def hitungLuasLingkaran(r):\n",
        "    import math\n",
        "    pi = math.pi\n",
        "    luas = pi * r * r\n",
        "    return luas\n",
        "\n",
        "# buat sebuah fungsi untuk menghitung luas segitiga\n",
        "def hitungLuasSegitiga(a,t):\n",
        "    luas = 0.5 * a * t\n",
        "    return luas\n",
        "\n",
        "\n",
        "x = hitungLuasLingkaran(6)\n",
        "y = hitungLuasSegitiga(5,10)\n",
        "\n",
        "print(x)\n",
        "print(y)"
      ],
      "metadata": {
        "colab": {
          "base_uri": "https://localhost:8080/"
        },
        "id": "T86V04aikW8H",
        "outputId": "bbe9c481-c073-4f81-9ba2-5bb44f0f6eb1"
      },
      "execution_count": 67,
      "outputs": [
        {
          "output_type": "stream",
          "name": "stdout",
          "text": [
            "113.09733552923255\n",
            "25.0\n"
          ]
        }
      ]
    },
    {
      "cell_type": "code",
      "source": [
        "def boringFunction():\n",
        "    print(\"'Boredom Mode' ON.\")\n",
        "    return 123\n",
        "\n",
        "print(\"This Lesson is interesting!\")\n",
        "x = boringFunction()\n",
        "print(x)\n",
        "print(\"test\")"
      ],
      "metadata": {
        "colab": {
          "base_uri": "https://localhost:8080/"
        },
        "id": "61u7oSWHkY_n",
        "outputId": "f25c9a22-462e-42f1-e63d-f2aecd9ee762"
      },
      "execution_count": 68,
      "outputs": [
        {
          "output_type": "stream",
          "name": "stdout",
          "text": [
            "This Lesson is interesting!\n",
            "'Boredom Mode' ON.\n",
            "123\n",
            "test\n"
          ]
        }
      ]
    },
    {
      "cell_type": "code",
      "source": [
        "def jumlah(a,b):\n",
        "    c = a + b\n",
        "    return c\n",
        "\n",
        "a = jumlah(3,4)\n",
        "print(a)"
      ],
      "metadata": {
        "colab": {
          "base_uri": "https://localhost:8080/"
        },
        "id": "EqrwHKaHkb74",
        "outputId": "e4ece64a-ef3e-40e3-d9bf-eedf65166a14"
      },
      "execution_count": 69,
      "outputs": [
        {
          "output_type": "stream",
          "name": "stdout",
          "text": [
            "7\n"
          ]
        }
      ]
    },
    {
      "cell_type": "code",
      "source": [
        "def strangeFunction(n):\n",
        "    if(n % 2 == 0):\n",
        "        return True\n",
        "\n",
        "#Call the Function here\n",
        "\n",
        "print(strangeFunction(4))\n",
        "print(strangeFunction(3))"
      ],
      "metadata": {
        "colab": {
          "base_uri": "https://localhost:8080/"
        },
        "id": "aahJcwnQkc93",
        "outputId": "97089f82-e79c-42ef-d79a-f58ba6737447"
      },
      "execution_count": 70,
      "outputs": [
        {
          "output_type": "stream",
          "name": "stdout",
          "text": [
            "True\n",
            "None\n"
          ]
        }
      ]
    },
    {
      "cell_type": "code",
      "source": [
        "def sumOfList(lst):\n",
        "    sum = 0\n",
        "\n",
        "    for elem in lst:\n",
        "        sum += elem\n",
        "\n",
        "    return sum\n",
        "\n",
        "#Call the Function here\n",
        "x = sumOfList([2,2,2,2,2])\n",
        "print(x)"
      ],
      "metadata": {
        "colab": {
          "base_uri": "https://localhost:8080/"
        },
        "id": "NLI9jsI0keWQ",
        "outputId": "f442a7f5-5fc6-43d9-f993-d4e288d21919"
      },
      "execution_count": 71,
      "outputs": [
        {
          "output_type": "stream",
          "name": "stdout",
          "text": [
            "10\n"
          ]
        }
      ]
    },
    {
      "cell_type": "code",
      "source": [
        "def strangeListFunction(n):\n",
        "    strangeList = []\n",
        "\n",
        "    for i in range(0, n):\n",
        "        print(\"Insert\",i)\n",
        "        strangeList.insert(0, i)\n",
        "        print(strangeList)\n",
        "\n",
        "    return strangeList\n",
        "\n",
        "#Call the Function here\n",
        "print(\"Hasil : \", strangeListFunction(10))"
      ],
      "metadata": {
        "colab": {
          "base_uri": "https://localhost:8080/"
        },
        "id": "OHfqRE3WkfiA",
        "outputId": "e0fbbff3-d0ba-4119-e20f-125ef22fddd2"
      },
      "execution_count": 72,
      "outputs": [
        {
          "output_type": "stream",
          "name": "stdout",
          "text": [
            "Insert 0\n",
            "[0]\n",
            "Insert 1\n",
            "[1, 0]\n",
            "Insert 2\n",
            "[2, 1, 0]\n",
            "Insert 3\n",
            "[3, 2, 1, 0]\n",
            "Insert 4\n",
            "[4, 3, 2, 1, 0]\n",
            "Insert 5\n",
            "[5, 4, 3, 2, 1, 0]\n",
            "Insert 6\n",
            "[6, 5, 4, 3, 2, 1, 0]\n",
            "Insert 7\n",
            "[7, 6, 5, 4, 3, 2, 1, 0]\n",
            "Insert 8\n",
            "[8, 7, 6, 5, 4, 3, 2, 1, 0]\n",
            "Insert 9\n",
            "[9, 8, 7, 6, 5, 4, 3, 2, 1, 0]\n",
            "Hasil :  [9, 8, 7, 6, 5, 4, 3, 2, 1, 0]\n"
          ]
        }
      ]
    },
    {
      "cell_type": "code",
      "source": [
        "# Function Test tahun Kabisat\n",
        "def isYearLeap(year):\n",
        "    if (year % 4) == 0:\n",
        "        if (year % 100) == 0:\n",
        "            if (year % 400) == 0:\n",
        "                return True\n",
        "            else:\n",
        "                return False\n",
        "        else:\n",
        "            return True\n",
        "    else:\n",
        "        return False\n",
        "\n",
        "testData = [1900, 2000, 2016, 1987,2004]\n",
        "testResults = [False, True, True, False, True]\n",
        "for i in range(len(testData)):\n",
        "    yr = testData[i]\n",
        "    print(yr,\"->\",end=\"\")\n",
        "    result = isYearLeap(yr)\n",
        "    if result == testResults[i]:\n",
        "        print(\"OK\")\n",
        "    else:\n",
        "        print(\"Failed\")"
      ],
      "metadata": {
        "colab": {
          "base_uri": "https://localhost:8080/"
        },
        "id": "CbLCWU3RkhA4",
        "outputId": "fd32d190-fe67-43d0-88eb-bf9955d97b01"
      },
      "execution_count": 73,
      "outputs": [
        {
          "output_type": "stream",
          "name": "stdout",
          "text": [
            "1900 ->OK\n",
            "2000 ->OK\n",
            "2016 ->OK\n",
            "1987 ->OK\n",
            "2004 ->OK\n"
          ]
        }
      ]
    },
    {
      "cell_type": "code",
      "source": [
        "def scopeTest():\n",
        "    print(a)\n",
        "    b = 120\n",
        "    print(b)\n",
        "\n",
        "#Call the Function here\n",
        "\n",
        "a = 90\n",
        "scopeTest()"
      ],
      "metadata": {
        "colab": {
          "base_uri": "https://localhost:8080/"
        },
        "id": "BbwxQDLqkia4",
        "outputId": "b34bbf45-a2a9-425e-a975-750ddb469e1a"
      },
      "execution_count": 74,
      "outputs": [
        {
          "output_type": "stream",
          "name": "stdout",
          "text": [
            "90\n",
            "120\n"
          ]
        }
      ]
    },
    {
      "cell_type": "code",
      "source": [
        "def bmi(weight, height):\n",
        "    if height < 1.0 \\\n",
        "    or height > 2.5 \\\n",
        "    or weight < 20 \\\n",
        "    or weight > 200:\n",
        "        return None\n",
        "\n",
        "    return weight / height ** 2\n",
        "\n",
        "print(bmi(70, 1.69))"
      ],
      "metadata": {
        "colab": {
          "base_uri": "https://localhost:8080/"
        },
        "id": "QlF8tSkMkkkB",
        "outputId": "fe4ae272-4a71-460a-c179-f02b792edac2"
      },
      "execution_count": 75,
      "outputs": [
        {
          "output_type": "stream",
          "name": "stdout",
          "text": [
            "24.508945765204302\n"
          ]
        }
      ]
    },
    {
      "cell_type": "code",
      "source": [
        "def bmi(weight, height):\n",
        "    return weight / height ** 2\n",
        "\n",
        "print(bmi(65, 1.69))"
      ],
      "metadata": {
        "colab": {
          "base_uri": "https://localhost:8080/"
        },
        "id": "2eNLzSQqkl3p",
        "outputId": "8d19da2d-6366-4efa-8320-aa6579132e4c"
      },
      "execution_count": 76,
      "outputs": [
        {
          "output_type": "stream",
          "name": "stdout",
          "text": [
            "22.758306781975424\n"
          ]
        }
      ]
    },
    {
      "cell_type": "code",
      "source": [
        "def isItATriangle(a, b, c):\n",
        "    if a + b <= c:\n",
        "        return False\n",
        "    if b + c <= a:\n",
        "        return False\n",
        "    if c + a <= b:\n",
        "        return False\n",
        "\n",
        "    return True\n",
        "\n",
        "#Call the Function here\n",
        "print(isItATriangle(1,1,1))\n",
        "print(isItATriangle(1,2,2))"
      ],
      "metadata": {
        "colab": {
          "base_uri": "https://localhost:8080/"
        },
        "id": "Z9coBSKzknEB",
        "outputId": "d13246b5-2108-4f3c-d2ea-97c6581f8868"
      },
      "execution_count": 77,
      "outputs": [
        {
          "output_type": "stream",
          "name": "stdout",
          "text": [
            "True\n",
            "True\n"
          ]
        }
      ]
    },
    {
      "cell_type": "code",
      "source": [
        "def isItATriangle(a, b, c):\n",
        "    return a + b > c and b + c > a and c + a > b\n",
        "\n",
        "a = float(input(\"Enter the first side's length: \"))\n",
        "b = float(input(\"Enter the second side's length: \"))\n",
        "c = float(input(\"Enter the third side's length: \"))\n",
        "\n",
        "if isItATriangle(a, b, c):\n",
        "    print(\"Congratulations - it can be a triangle.\")\n",
        "else:\n",
        "    print(\"Sorry, it won't be a triangle.\")"
      ],
      "metadata": {
        "colab": {
          "base_uri": "https://localhost:8080/"
        },
        "id": "taj8pzLIkoS5",
        "outputId": "7fd53515-a4f0-453d-cf0e-993466cf5f6a"
      },
      "execution_count": 78,
      "outputs": [
        {
          "output_type": "stream",
          "name": "stdout",
          "text": [
            "Enter the first side's length: 23\n",
            "Enter the second side's length: 4\n",
            "Enter the third side's length: 6\n",
            "Sorry, it won't be a triangle.\n"
          ]
        }
      ]
    },
    {
      "cell_type": "code",
      "source": [
        "def factorialFun(n):\n",
        "    if n < 0:\n",
        "        return None\n",
        "    if n < 2:\n",
        "        return 1\n",
        "\n",
        "    product = 1\n",
        "    for i in range(2, n + 1):\n",
        "        product *= i\n",
        "    return product\n",
        "\n",
        "#Call the Function here\n",
        "for n in range(1, 15): # testing\n",
        "    print(n, factorialFun(n))"
      ],
      "metadata": {
        "colab": {
          "base_uri": "https://localhost:8080/"
        },
        "id": "0iXQWW5_kvyP",
        "outputId": "be723874-dcbf-4df4-e6e5-dce57190ef47"
      },
      "execution_count": 79,
      "outputs": [
        {
          "output_type": "stream",
          "name": "stdout",
          "text": [
            "1 1\n",
            "2 2\n",
            "3 6\n",
            "4 24\n",
            "5 120\n",
            "6 720\n",
            "7 5040\n",
            "8 40320\n",
            "9 362880\n",
            "10 3628800\n",
            "11 39916800\n",
            "12 479001600\n",
            "13 6227020800\n",
            "14 87178291200\n"
          ]
        }
      ]
    },
    {
      "cell_type": "code",
      "source": [
        "def fib(n):\n",
        "    if n < 1:\n",
        "         return None\n",
        "    if n < 3:\n",
        "        return 1\n",
        "\n",
        "    elem1 = elem2 = 1\n",
        "    sum = 0\n",
        "    for i in range(3, n + 1):\n",
        "        sum = elem1 + elem2\n",
        "        elem1, elem2 = elem2, sum\n",
        "    return sum\n",
        "\n",
        "#Call the Function here\n",
        "for n in range(1, 10): #testing\n",
        "    print(n, \">\", fib(n))"
      ],
      "metadata": {
        "colab": {
          "base_uri": "https://localhost:8080/"
        },
        "id": "giasFHmukxky",
        "outputId": "1ac69aab-e914-4164-f41e-bec7cd574c6c"
      },
      "execution_count": 80,
      "outputs": [
        {
          "output_type": "stream",
          "name": "stdout",
          "text": [
            "1 > 1\n",
            "2 > 1\n",
            "3 > 2\n",
            "4 > 3\n",
            "5 > 5\n",
            "6 > 8\n",
            "7 > 13\n",
            "8 > 21\n",
            "9 > 34\n"
          ]
        }
      ]
    },
    {
      "cell_type": "code",
      "source": [
        "#recursion 1\n",
        "def fib(n):\n",
        "    if n < 1:\n",
        "        return None\n",
        "    if n < 3:\n",
        "        return 1\n",
        "    return fib(n - 1) + fib(n - 2)\n",
        "\n",
        "for n in range(1, 10): # testing\n",
        "    print(n, \"->\", fib(n))\n",
        "\n",
        "#recursion 2\n",
        "\n",
        "def fun(a):\n",
        "    if a > 30:\n",
        "        return 3\n",
        "    else:\n",
        "        return a + fun(a + 3)\n",
        "\n",
        "\n",
        "print(fun(25))\n"
      ],
      "metadata": {
        "colab": {
          "base_uri": "https://localhost:8080/"
        },
        "id": "-WWHhPEEky4q",
        "outputId": "7e8e5c48-a7cf-4c08-b546-fe0295ddd342"
      },
      "execution_count": 81,
      "outputs": [
        {
          "output_type": "stream",
          "name": "stdout",
          "text": [
            "1 -> 1\n",
            "2 -> 1\n",
            "3 -> 2\n",
            "4 -> 3\n",
            "5 -> 5\n",
            "6 -> 8\n",
            "7 -> 13\n",
            "8 -> 21\n",
            "9 -> 34\n",
            "56\n"
          ]
        }
      ]
    },
    {
      "cell_type": "code",
      "source": [
        "kalimat = \"Ibu pergi ke pasar dengan Bapak\"\n",
        "stopw = ['ke','dengan','saya','dia']\n",
        "\n",
        "def removeStop(sentence):\n",
        "#     words = []\n",
        "    words = [word for word in sentence.split() if word not in stopw]\n",
        "#     for word in sentence.split():\n",
        "#         if word not in stopw:\n",
        "#             words.append(word)\n",
        "\n",
        "    return ' '.join(words)\n",
        "\n",
        "# print('ke' in kalimat.split())\n",
        "kalimat_stop = removeStop(kalimat.lower())\n",
        "\n",
        "print(kalimat_stop)\n",
        "# output kalimat_stop: Ibu pergi pasar Bapak\"\n",
        "\n"
      ],
      "metadata": {
        "colab": {
          "base_uri": "https://localhost:8080/"
        },
        "id": "fQi8mS_Jk0ka",
        "outputId": "ad4db75c-4ce1-4ddb-b706-cd0e2b434c6b"
      },
      "execution_count": 83,
      "outputs": [
        {
          "output_type": "stream",
          "name": "stdout",
          "text": [
            "ibu pergi pasar bapak\n"
          ]
        }
      ]
    },
    {
      "cell_type": "code",
      "source": [
        "myTuple = (1, 2, True, \"a string\", (3, 4), [5, 6], None)\n",
        "#Print Function here\n",
        "print(myTuple)\n",
        "\n",
        "myList = [1, 2, True, \"a string\", (3, 4), [5, 6], None]\n",
        "#Print Function here\n",
        "print(myList)\n"
      ],
      "metadata": {
        "colab": {
          "base_uri": "https://localhost:8080/"
        },
        "id": "Nqbfpp76k3iL",
        "outputId": "ee6dd386-d3c2-4c0a-cf06-01273f12b25e"
      },
      "execution_count": 84,
      "outputs": [
        {
          "output_type": "stream",
          "name": "stdout",
          "text": [
            "(1, 2, True, 'a string', (3, 4), [5, 6], None)\n",
            "[1, 2, True, 'a string', (3, 4), [5, 6], None]\n"
          ]
        }
      ]
    },
    {
      "cell_type": "code",
      "source": [
        "tup1 = (1,2,3,4)\n",
        "tup2 = 1.0, .5, .25, .124\n",
        "\n",
        "print(tup1)\n",
        "print(tup2)"
      ],
      "metadata": {
        "colab": {
          "base_uri": "https://localhost:8080/"
        },
        "id": "jCu-WzTRk5Nj",
        "outputId": "3b0326d4-5300-425b-ac0e-5a8c9ff20a7e"
      },
      "execution_count": 85,
      "outputs": [
        {
          "output_type": "stream",
          "name": "stdout",
          "text": [
            "(1, 2, 3, 4)\n",
            "(1.0, 0.5, 0.25, 0.124)\n"
          ]
        }
      ]
    },
    {
      "cell_type": "code",
      "source": [
        "emptyTuple = ()\n",
        "print(type(emptyTuple))"
      ],
      "metadata": {
        "colab": {
          "base_uri": "https://localhost:8080/"
        },
        "id": "jYo6hE-2k6yj",
        "outputId": "d4c29318-1c9e-4a7d-fee5-32c15e538f42"
      },
      "execution_count": 86,
      "outputs": [
        {
          "output_type": "stream",
          "name": "stdout",
          "text": [
            "<class 'tuple'>\n"
          ]
        }
      ]
    },
    {
      "cell_type": "code",
      "source": [
        "myTuple = (1, 10, 100, 1000)\n",
        "\n",
        "print(myTuple[0])\n",
        "print(myTuple[-1])\n",
        "print(myTuple[1:])\n",
        "print(myTuple[:-2])\n",
        "\n",
        "for elem in myTuple:\n",
        "    print(elem, end = \" \")"
      ],
      "metadata": {
        "colab": {
          "base_uri": "https://localhost:8080/"
        },
        "id": "OQIZfCdAk8U0",
        "outputId": "a3daa299-348b-4cff-ec60-d298b23aef6c"
      },
      "execution_count": 87,
      "outputs": [
        {
          "output_type": "stream",
          "name": "stdout",
          "text": [
            "1\n",
            "1000\n",
            "(10, 100, 1000)\n",
            "(1, 10)\n",
            "1 10 100 1000 "
          ]
        }
      ]
    },
    {
      "cell_type": "code",
      "source": [
        "# Example 1\n",
        "t1 = (1, 2, 3)\n",
        "for elem in t1:\n",
        "    print(elem)\n",
        "\n",
        "# Example 2\n",
        "t2 = (1, 2, 3, 4)\n",
        "print(5 in t2)\n",
        "print(5 not in t2)\n",
        "\n",
        "# Example 3\n",
        "t3 = (1, 2, 3, 5)\n",
        "print(len(t3))\n",
        "\n",
        "# Example 4\n",
        "t4 = t1 + t2\n",
        "t5 = t3 * 2\n",
        "\n",
        "print(t4)\n",
        "print(t5)"
      ],
      "metadata": {
        "colab": {
          "base_uri": "https://localhost:8080/"
        },
        "id": "t5ddv9wclHd9",
        "outputId": "a8572c59-df99-478d-ff25-94f340cdeb38"
      },
      "execution_count": 88,
      "outputs": [
        {
          "output_type": "stream",
          "name": "stdout",
          "text": [
            "1\n",
            "2\n",
            "3\n",
            "False\n",
            "True\n",
            "4\n",
            "(1, 2, 3, 1, 2, 3, 4)\n",
            "(1, 2, 3, 5, 1, 2, 3, 5)\n"
          ]
        }
      ]
    },
    {
      "cell_type": "code",
      "source": [
        "kamus = {\"cat\" : \"chat\", \"dog\" : \"chien\", \"horse\" : \"cheval\"}\n",
        "phoneNumbers = {'boss' : 5551234567, 'Suzy' : [22657854310,52852352]}\n",
        "emptyDictionary = {}\n",
        "\n",
        "print()\n",
        "print(phoneNumbers)\n",
        "print(emptyDictionary)"
      ],
      "metadata": {
        "colab": {
          "base_uri": "https://localhost:8080/"
        },
        "id": "FuQrY9JYlIx1",
        "outputId": "9daef56a-9d14-47c6-9a20-00d0f074c829"
      },
      "execution_count": 89,
      "outputs": [
        {
          "output_type": "stream",
          "name": "stdout",
          "text": [
            "\n",
            "{'boss': 5551234567, 'Suzy': [22657854310, 52852352]}\n",
            "{}\n"
          ]
        }
      ]
    },
    {
      "cell_type": "code",
      "source": [
        "schoolClass = {}\n",
        "\n",
        "while True:\n",
        "    name = input(\"Enter the student's name (or type exit to stop): \")\n",
        "    if name == 'exit':\n",
        "        break\n",
        "\n",
        "    score = int(input(\"Enter the student's score (0-10): \"))\n",
        "\n",
        "    if name in schoolClass:\n",
        "        schoolClass[name] += (score,)\n",
        "    else:\n",
        "        schoolClass[name] = (score,)\n",
        "\n",
        "print(schoolClass)\n",
        "\n",
        "for name in sorted(schoolClass.keys()):\n",
        "    sum = 0\n",
        "    counter = 0\n",
        "    for score in schoolClass[name]:\n",
        "        sum += score\n",
        "        counter += 1\n",
        "    print(name, \":\", sum / counter)"
      ],
      "metadata": {
        "colab": {
          "base_uri": "https://localhost:8080/"
        },
        "id": "79vYSTl6lKo1",
        "outputId": "435c8370-e8dd-46c2-87b9-d2aed13c8801"
      },
      "execution_count": 90,
      "outputs": [
        {
          "output_type": "stream",
          "name": "stdout",
          "text": [
            "Enter the student's name (or type exit to stop): Aubin\n",
            "Enter the student's score (0-10): 9\n",
            "Enter the student's name (or type exit to stop): exit\n",
            "{'Aubin': (9,)}\n",
            "Aubin : 9.0\n"
          ]
        }
      ]
    },
    {
      "cell_type": "code",
      "source": [
        "def tf(sentence):\n",
        "    d = {}\n",
        "    for word in sentence.split():\n",
        "        if word not in d:\n",
        "            d[word] = 1\n",
        "        else:\n",
        "            d[word] += 1\n",
        "    return d\n",
        "\n",
        "kalimat = \"Ibu pergi ke pasar dengan Bapak dan Ibu Ibu lain\"\n",
        "stopw.append('dan')\n",
        "stopw.append('lain')\n",
        "kalimat_stop = removeStop(kalimat.lower())\n",
        "tf_kalimat = tf(kalimat_stop)\n",
        "\n",
        "print(tf_kalimat)"
      ],
      "metadata": {
        "colab": {
          "base_uri": "https://localhost:8080/"
        },
        "id": "wZ3l3EzzlTEG",
        "outputId": "d50f514b-848a-4aa3-a3aa-8ca54b3fde3d"
      },
      "execution_count": 93,
      "outputs": [
        {
          "output_type": "stream",
          "name": "stdout",
          "text": [
            "{'ibu': 3, 'pergi': 1, 'pasar': 1, 'bapak': 1}\n"
          ]
        }
      ]
    },
    {
      "cell_type": "code",
      "source": [
        "# Example 1\n",
        "t1 = (1, 2, 3)\n",
        "for elem in t1:\n",
        "    print(elem)\n",
        "\n",
        "# Example 2\n",
        "t2 = (1, 2, 3, 4)\n",
        "print(5 in t2)\n",
        "print(5 not in t2)\n",
        "\n",
        "# Example 3\n",
        "t3 = (1, 2, 3, 5)\n",
        "print(len(t3))\n",
        "\n",
        "# Example 4\n",
        "t4 = t1 + t2\n",
        "t5 = t3 * 2\n",
        "\n",
        "print(t4)\n",
        "print(t5)\n"
      ],
      "metadata": {
        "colab": {
          "base_uri": "https://localhost:8080/"
        },
        "id": "snpOPfxrlkFo",
        "outputId": "e16337f2-7037-4ea4-d86b-aa56b791cf6a"
      },
      "execution_count": 94,
      "outputs": [
        {
          "output_type": "stream",
          "name": "stdout",
          "text": [
            "1\n",
            "2\n",
            "3\n",
            "False\n",
            "True\n",
            "4\n",
            "(1, 2, 3, 1, 2, 3, 4)\n",
            "(1, 2, 3, 5, 1, 2, 3, 5)\n"
          ]
        }
      ]
    },
    {
      "cell_type": "code",
      "source": [
        "import pprint\n",
        "pp = pprint.PrettyPrinter(indent=4)\n",
        "\n",
        "mahasiswa = [\n",
        "    {\n",
        "        'nim' : '08/123123/PA/123213',\n",
        "        'nama' : 'Guntur Budi H',\n",
        "        'nilai' : [80,90,75,30]\n",
        "    },\n",
        "    {\n",
        "        'nim' : '08/213123/PA/98120',\n",
        "        'nama' : 'Annisa Maulida N',\n",
        "        'nilai' : [100,90,77,110]\n",
        "    }\n",
        "]\n",
        "mahasiswa_baru = {\n",
        "    'nim' : '12/12414/PA/12312',\n",
        "    'nama' : 'Miftahhurahma Rosyda'\n",
        "}\n",
        "\n",
        "mahasiswa.append(mahasiswa_baru)\n",
        "mahasiswa[0]['nilai'].append(79)\n",
        "mahasiswa[2]['nilai'] = [80,100,95,25]\n",
        "\n",
        "#pp.pprint(mahasiswa)\n",
        "pp.pprint(mahasiswa[0]['nilai'][-1])"
      ],
      "metadata": {
        "colab": {
          "base_uri": "https://localhost:8080/"
        },
        "id": "26QfAs_ollh4",
        "outputId": "ccb9cc77-4a23-4b54-d13f-301f233f8b18"
      },
      "execution_count": 95,
      "outputs": [
        {
          "output_type": "stream",
          "name": "stdout",
          "text": [
            "79\n"
          ]
        }
      ]
    },
    {
      "cell_type": "code",
      "source": [
        "paragraf = \"\"\"\n",
        "Kisah ini bermula dari seorang dewa dan seorang dewi yang karena kesalahan yang dibuatnya di kayangan, akhirnya harus menjalani hukuman di dunia. Keduanya dihukum untuk berbuat kebaikan dalam hidupnya di bumi dalam bentuk seekor babi hutan dan seekor anjing. Babi hutan jelmaan dewi itu bernama Wayung Hyang, sedangkan anjing jelmaan dewa itu bernama Tumang. Wayung Hyang karena dihukum sebagai babi hutan atau celeng, maka ia berusaha melakukan berbagai kebaikan di dalam sebuah hutan. Sementara Tumang, sang anjing jelmaan dewa itu mengabdi sebagai anjing pemburu pada seorang raja yang bernama Sumbing Perbangkara.\n",
        "\"\"\"\n",
        "\n",
        "#sintaks ini\n",
        "kalimat = [k.strip().upper() for k in paragraf.split('.')] #memisahkan kalimat berdasarkan titik untuk menjadi list\n",
        "# print(kalimat)\n",
        "\n",
        "#sama dengan ini\n",
        "kalimat_baru = []\n",
        "for k in paragraf.split('.'):\n",
        "    kalimat_baru.append(k.strip())\n",
        "#     if k.endswith('dunia'):\n",
        "#         print(\"Ada Dunia pada kalimat\",k)\n",
        "\n",
        "    if k.find('dunia'):\n",
        "        print(\"Ada dunia pada kalimat\",k)\n",
        "\n",
        "\n",
        "#versi satu satu\n",
        "kalimat_a = paragraf.split('.') #memisahkan kalimat berdasarkan titik di paragraf\n",
        "kalimat_a[1] =  kalimat_a[1].strip() #menghilangkan spasi\n",
        "kalimat_a[2] =  kalimat_a[2].strip() #menghilangkan spasi\n",
        "\n",
        "\n"
      ],
      "metadata": {
        "colab": {
          "base_uri": "https://localhost:8080/"
        },
        "id": "B9tvuHXMlvb0",
        "outputId": "19f2d9e1-b7ff-4c4b-ba72-3d548576473b"
      },
      "execution_count": 97,
      "outputs": [
        {
          "output_type": "stream",
          "name": "stdout",
          "text": [
            "Ada dunia pada kalimat \n",
            "Kisah ini bermula dari seorang dewa dan seorang dewi yang karena kesalahan yang dibuatnya di kayangan, akhirnya harus menjalani hukuman di dunia\n",
            "Ada dunia pada kalimat  Keduanya dihukum untuk berbuat kebaikan dalam hidupnya di bumi dalam bentuk seekor babi hutan dan seekor anjing\n",
            "Ada dunia pada kalimat  Babi hutan jelmaan dewi itu bernama Wayung Hyang, sedangkan anjing jelmaan dewa itu bernama Tumang\n",
            "Ada dunia pada kalimat  Wayung Hyang karena dihukum sebagai babi hutan atau celeng, maka ia berusaha melakukan berbagai kebaikan di dalam sebuah hutan\n",
            "Ada dunia pada kalimat  Sementara Tumang, sang anjing jelmaan dewa itu mengabdi sebagai anjing pemburu pada seorang raja yang bernama Sumbing Perbangkara\n",
            "Ada dunia pada kalimat \n",
            "\n"
          ]
        }
      ]
    },
    {
      "cell_type": "code",
      "source": [
        "k = \"abu salam \"\n",
        "print(k.capitalize())\n",
        "print(k.endswith(\"budi h\"))\n"
      ],
      "metadata": {
        "colab": {
          "base_uri": "https://localhost:8080/"
        },
        "id": "2JidsA9hl0fI",
        "outputId": "1e8d507d-e8e9-4c8f-afc0-56c5a53281f6"
      },
      "execution_count": 98,
      "outputs": [
        {
          "output_type": "stream",
          "name": "stdout",
          "text": [
            "Abu salam \n",
            "False\n"
          ]
        }
      ]
    },
    {
      "cell_type": "code",
      "source": [
        "import math"
      ],
      "metadata": {
        "id": "-sJVnvdYmCpT"
      },
      "execution_count": 99,
      "outputs": []
    },
    {
      "cell_type": "code",
      "source": [
        "import math, sys"
      ],
      "metadata": {
        "id": "EfXMa-0BmEJc"
      },
      "execution_count": 100,
      "outputs": []
    },
    {
      "cell_type": "code",
      "source": [
        "from math import pi,e\n",
        "\n",
        "print(pi)\n",
        "print(e)\n",
        "\n",
        "# dir(math)"
      ],
      "metadata": {
        "colab": {
          "base_uri": "https://localhost:8080/"
        },
        "id": "ga5DUR6emJqU",
        "outputId": "e7f09afe-a8ae-40ba-f957-e1c85e10b615"
      },
      "execution_count": 102,
      "outputs": [
        {
          "output_type": "stream",
          "name": "stdout",
          "text": [
            "3.141592653589793\n",
            "2.718281828459045\n"
          ]
        }
      ]
    },
    {
      "cell_type": "code",
      "source": [
        "## override nilai sin dan pi\n",
        "from math import sin, pi\n",
        "\n",
        "print(sin(pi/2))\n",
        "\n",
        "print(\"=====\")\n",
        "\n",
        "pi = 3.14\n",
        "\n",
        "def sin(x):\n",
        "    if 2 * x == pi:\n",
        "        return 0.99999999\n",
        "    else:\n",
        "        return None\n",
        "\n",
        "print(sin(pi/2))"
      ],
      "metadata": {
        "colab": {
          "base_uri": "https://localhost:8080/"
        },
        "id": "JlDDiTPcmPod",
        "outputId": "a903c1ec-4901-4640-9cd7-cd5bc55b2d92"
      },
      "execution_count": 103,
      "outputs": [
        {
          "output_type": "stream",
          "name": "stdout",
          "text": [
            "1.0\n",
            "=====\n",
            "0.99999999\n"
          ]
        }
      ]
    },
    {
      "cell_type": "code",
      "source": [
        "from math import *\n",
        "print(tan(0))"
      ],
      "metadata": {
        "colab": {
          "base_uri": "https://localhost:8080/"
        },
        "id": "kqg2hiCfmQ3e",
        "outputId": "8f189926-3a60-46b9-bdd4-5314d922ac68"
      },
      "execution_count": 104,
      "outputs": [
        {
          "output_type": "stream",
          "name": "stdout",
          "text": [
            "0.0\n"
          ]
        }
      ]
    },
    {
      "cell_type": "code",
      "source": [
        "import math as m\n",
        "\n",
        "print(m.pi)\n"
      ],
      "metadata": {
        "colab": {
          "base_uri": "https://localhost:8080/"
        },
        "id": "AKIpsmRYmSJd",
        "outputId": "4ffae7f1-7fb9-4a1e-fbe5-c6c621b7030d"
      },
      "execution_count": 105,
      "outputs": [
        {
          "output_type": "stream",
          "name": "stdout",
          "text": [
            "3.141592653589793\n"
          ]
        }
      ]
    },
    {
      "cell_type": "code",
      "source": [
        "from math import pi as PI, sin as sine\n",
        "\n",
        "print(sine(PI/2))"
      ],
      "metadata": {
        "colab": {
          "base_uri": "https://localhost:8080/"
        },
        "id": "_IyzD-4vmTMd",
        "outputId": "c3ec5d3c-b64e-4ec2-cecd-0e1a18fc7576"
      },
      "execution_count": 106,
      "outputs": [
        {
          "output_type": "stream",
          "name": "stdout",
          "text": [
            "1.0\n"
          ]
        }
      ]
    },
    {
      "cell_type": "code",
      "source": [
        "from math import pi as PI, sin as sine\n",
        "\n",
        "print(sine(PI/2))"
      ],
      "metadata": {
        "colab": {
          "base_uri": "https://localhost:8080/"
        },
        "id": "090GqyqpmUBe",
        "outputId": "244d074e-3738-4f58-8901-b23605aeb0ca"
      },
      "execution_count": 107,
      "outputs": [
        {
          "output_type": "stream",
          "name": "stdout",
          "text": [
            "1.0\n"
          ]
        }
      ]
    },
    {
      "cell_type": "code",
      "source": [
        "import math\n",
        "\n",
        "a = math.pow(2,3)\n",
        "print(a)\n",
        "\n",
        "for name in dir(math):\n",
        "    print(name, end=\"\\t\")"
      ],
      "metadata": {
        "colab": {
          "base_uri": "https://localhost:8080/"
        },
        "id": "mRQGnnHXmVFW",
        "outputId": "763b9665-0b60-407d-9276-cd2b816be93a"
      },
      "execution_count": 108,
      "outputs": [
        {
          "output_type": "stream",
          "name": "stdout",
          "text": [
            "8.0\n",
            "__doc__\t__loader__\t__name__\t__package__\t__spec__\tacos\tacosh\tasin\tasinh\tatan\tatan2\tatanh\tcbrt\tceil\tcomb\tcopysign\tcos\tcosh\tdegrees\tdist\te\terf\terfc\texp\texp2\texpm1\tfabs\tfactorial\tfloor\tfmod\tfrexp\tfsum\tgamma\tgcd\thypot\tinf\tisclose\tisfinite\tisinf\tisnan\tisqrt\tlcm\tldexp\tlgamma\tlog\tlog10\tlog1p\tlog2\tmodf\tnan\tnextafter\tperm\tpi\tpow\tprod\tradians\tremainder\tsin\tsinh\tsqrt\ttan\ttanh\ttau\ttrunc\tulp\t"
          ]
        }
      ]
    },
    {
      "cell_type": "code",
      "source": [
        "from math import e, exp, log\n",
        "\n",
        "print(pow(e, 1) == exp(log(e)))\n",
        "print(pow(2, 2) == exp(2 * log(2)))\n",
        "print(log(e, e) == exp(0))"
      ],
      "metadata": {
        "colab": {
          "base_uri": "https://localhost:8080/"
        },
        "id": "G_TOatJOmZDv",
        "outputId": "a4b05d87-ac6e-4f46-e262-b511ef920890"
      },
      "execution_count": 110,
      "outputs": [
        {
          "output_type": "stream",
          "name": "stdout",
          "text": [
            "True\n",
            "True\n",
            "True\n"
          ]
        }
      ]
    },
    {
      "cell_type": "code",
      "source": [
        "from math import ceil, floor, trunc\n",
        "\n",
        "x = 1.4\n",
        "y = 2.6\n",
        "\n",
        "print(floor(x), floor(y))\n",
        "print(floor(-x), floor(-y))\n",
        "print(ceil(x), ceil(y))\n",
        "print(ceil(-x), ceil(-y))\n",
        "print(trunc(x), trunc(y))\n",
        "print(trunc(-x), trunc(-y))"
      ],
      "metadata": {
        "colab": {
          "base_uri": "https://localhost:8080/"
        },
        "id": "lirkCZiSmawG",
        "outputId": "b70365b8-bf8e-4341-93c7-b0335908839a"
      },
      "execution_count": 111,
      "outputs": [
        {
          "output_type": "stream",
          "name": "stdout",
          "text": [
            "1 2\n",
            "-2 -3\n",
            "2 3\n",
            "-1 -2\n",
            "1 2\n",
            "-1 -2\n"
          ]
        }
      ]
    },
    {
      "cell_type": "code",
      "source": [
        "from math import pi, radians, degrees, sin, cos, tan, asin\n",
        "\n",
        "ad = 90\n",
        "\n",
        "ar = radians(ad)\n",
        "print(ar)\n",
        "ad = degrees(ar)\n",
        "print(ad)\n",
        "\n",
        "print(ad == 90.)\n",
        "print(ar == pi / 2.)\n",
        "print(sin(ar) / cos(ar) == tan(ar))\n",
        "print(asin(sin(ar)) == ar)"
      ],
      "metadata": {
        "colab": {
          "base_uri": "https://localhost:8080/"
        },
        "id": "uMv5WD14mW52",
        "outputId": "a62f067e-972a-4604-e983-48b3322dea4f"
      },
      "execution_count": 109,
      "outputs": [
        {
          "output_type": "stream",
          "name": "stdout",
          "text": [
            "1.5707963267948966\n",
            "90.0\n",
            "True\n",
            "True\n",
            "True\n",
            "True\n"
          ]
        }
      ]
    },
    {
      "cell_type": "code",
      "source": [
        "from random import random\n",
        "for i in range(5):\n",
        "    print(random())"
      ],
      "metadata": {
        "colab": {
          "base_uri": "https://localhost:8080/"
        },
        "id": "XZZIq_-_mdEu",
        "outputId": "9938faeb-2af3-44f1-92b4-8d113cc522c3"
      },
      "execution_count": 112,
      "outputs": [
        {
          "output_type": "stream",
          "name": "stdout",
          "text": [
            "0.37204738943949567\n",
            "0.7960401351751599\n",
            "0.5554188988140464\n",
            "0.11766772752838228\n",
            "0.06502081859318598\n"
          ]
        }
      ]
    },
    {
      "cell_type": "code",
      "source": [
        "# ini kode apa\n",
        "from random import randrange, randint\n",
        "\n",
        "print(randrange(200), end='\\n')\n",
        "print(randrange(50, 100), end='\\n')\n",
        "print(randrange(50, 200, 10), end='\\n')\n",
        "print(randint(5, 10))"
      ],
      "metadata": {
        "colab": {
          "base_uri": "https://localhost:8080/"
        },
        "id": "cwzmBnFLmesX",
        "outputId": "8407855d-7990-461f-866c-d382a7826428"
      },
      "execution_count": 113,
      "outputs": [
        {
          "output_type": "stream",
          "name": "stdout",
          "text": [
            "97\n",
            "84\n",
            "100\n",
            "8\n"
          ]
        }
      ]
    },
    {
      "cell_type": "code",
      "source": [
        "# aritmatika.py\n",
        "\n",
        "def tambah(a,b):\n",
        "    return a+b\n",
        "\n",
        "def kurang(a,b):\n",
        "    return a-b\n",
        "\n",
        "def kali(a,b):\n",
        "    return a*b\n",
        "\n",
        "def bagi(a,b):\n",
        "    return a/b"
      ],
      "metadata": {
        "id": "7MwxdfNymyrR"
      },
      "execution_count": 118,
      "outputs": []
    },
    {
      "cell_type": "code",
      "source": [
        "pip --version"
      ],
      "metadata": {
        "colab": {
          "base_uri": "https://localhost:8080/"
        },
        "id": "OTllxYOym7TC",
        "outputId": "eb03bd00-9eaa-440c-f8da-54e48b82f0c3"
      },
      "execution_count": 121,
      "outputs": [
        {
          "output_type": "stream",
          "name": "stdout",
          "text": [
            "pip 24.1.2 from /usr/local/lib/python3.11/dist-packages/pip (python 3.11)\n"
          ]
        }
      ]
    },
    {
      "cell_type": "code",
      "source": [
        "pip help"
      ],
      "metadata": {
        "colab": {
          "base_uri": "https://localhost:8080/"
        },
        "id": "b_IhUyBwm8gq",
        "outputId": "1d4584c6-19b5-49c3-9c4d-ff85b4beb87d"
      },
      "execution_count": 122,
      "outputs": [
        {
          "output_type": "stream",
          "name": "stdout",
          "text": [
            "\n",
            "Usage:   \n",
            "  pip3 <command> [options]\n",
            "\n",
            "Commands:\n",
            "  install                     Install packages.\n",
            "  download                    Download packages.\n",
            "  uninstall                   Uninstall packages.\n",
            "  freeze                      Output installed packages in requirements format.\n",
            "  inspect                     Inspect the python environment.\n",
            "  list                        List installed packages.\n",
            "  show                        Show information about installed packages.\n",
            "  check                       Verify installed packages have compatible dependencies.\n",
            "  config                      Manage local and global configuration.\n",
            "  search                      Search PyPI for packages.\n",
            "  cache                       Inspect and manage pip's wheel cache.\n",
            "  index                       Inspect information available from package indexes.\n",
            "  wheel                       Build wheels from your requirements.\n",
            "  hash                        Compute hashes of package archives.\n",
            "  completion                  A helper command used for command completion.\n",
            "  debug                       Show information useful for debugging.\n",
            "  help                        Show help for commands.\n",
            "\n",
            "General Options:\n",
            "  -h, --help                  Show help.\n",
            "  --debug                     Let unhandled exceptions propagate outside the main subroutine,\n",
            "                              instead of logging them to stderr.\n",
            "  --isolated                  Run pip in an isolated mode, ignoring environment variables and user\n",
            "                              configuration.\n",
            "  --require-virtualenv        Allow pip to only run in a virtual environment; exit with an error\n",
            "                              otherwise.\n",
            "  --python <python>           Run pip with the specified Python interpreter.\n",
            "  -v, --verbose               Give more output. Option is additive, and can be used up to 3 times.\n",
            "  -V, --version               Show version and exit.\n",
            "  -q, --quiet                 Give less output. Option is additive, and can be used up to 3 times\n",
            "                              (corresponding to WARNING, ERROR, and CRITICAL logging levels).\n",
            "  --log <path>                Path to a verbose appending log.\n",
            "  --no-input                  Disable prompting for input.\n",
            "  --keyring-provider <keyring_provider>\n",
            "                              Enable the credential lookup via the keyring library if user input\n",
            "                              is allowed. Specify which mechanism to use [disabled, import,\n",
            "                              subprocess]. (default: disabled)\n",
            "  --proxy <proxy>             Specify a proxy in the form\n",
            "                              scheme://[user:passwd@]proxy.server:port.\n",
            "  --retries <retries>         Maximum number of retries each connection should attempt (default 5\n",
            "                              times).\n",
            "  --timeout <sec>             Set the socket timeout (default 15 seconds).\n",
            "  --exists-action <action>    Default action when a path already exists: (s)witch, (i)gnore,\n",
            "                              (w)ipe, (b)ackup, (a)bort.\n",
            "  --trusted-host <hostname>   Mark this host or host:port pair as trusted, even though it does not\n",
            "                              have valid or any HTTPS.\n",
            "  --cert <path>               Path to PEM-encoded CA certificate bundle. If provided, overrides\n",
            "                              the default. See 'SSL Certificate Verification' in pip documentation\n",
            "                              for more information.\n",
            "  --client-cert <path>        Path to SSL client certificate, a single file containing the private\n",
            "                              key and the certificate in PEM format.\n",
            "  --cache-dir <dir>           Store the cache data in <dir>.\n",
            "  --no-cache-dir              Disable the cache.\n",
            "  --disable-pip-version-check\n",
            "                              Don't periodically check PyPI to determine whether a new version of\n",
            "                              pip is available for download. Implied with --no-index.\n",
            "  --no-color                  Suppress colored output.\n",
            "  --no-python-version-warning\n",
            "                              Silence deprecation warnings for upcoming unsupported Pythons.\n",
            "  --use-feature <feature>     Enable new functionality, that may be backward incompatible.\n",
            "  --use-deprecated <feature>  Enable deprecated functionality, that will be removed in the future.\n"
          ]
        }
      ]
    },
    {
      "cell_type": "code",
      "source": [
        "class Parrot:\n",
        "\n",
        "    # class attribute\n",
        "    species = \"bird\"\n",
        "\n",
        "    # instance attribute\n",
        "    # constructor\n",
        "    def __init__(self, name, age):\n",
        "        self.name = name\n",
        "        self.age = age\n",
        "\n",
        "# # instantiate the Parrot class\n",
        "papi = Parrot(\"Papi\", 3)\n",
        "greeny = Parrot(\"Greeny\", 5)\n",
        "\n",
        "# access the class attributes\n",
        "print(\"Papi is a \" + papi.species)\n",
        "print(\"Greeny is also a \" + greeny.species)\n",
        "\n",
        "# access the instance attributes\n",
        "print(papi.name + \" is \" + str(papi.age) + \" years old\")\n",
        "print(greeny.name + \" is \" + str(greeny.age) + \" years old\")"
      ],
      "metadata": {
        "colab": {
          "base_uri": "https://localhost:8080/"
        },
        "id": "ZQtiViuCnBc7",
        "outputId": "8da3ed06-6921-45b0-9a51-4cf83d932579"
      },
      "execution_count": 123,
      "outputs": [
        {
          "output_type": "stream",
          "name": "stdout",
          "text": [
            "Papi is a bird\n",
            "Greeny is also a bird\n",
            "Papi is 3 years old\n",
            "Greeny is 5 years old\n"
          ]
        }
      ]
    },
    {
      "cell_type": "code",
      "source": [
        "## Objek SIswa\n",
        "class Siswa:\n",
        "\n",
        "    def __init__(self, nis, nama, alamat):\n",
        "        self.nis = nis\n",
        "        self.nama = nama\n",
        "        self.alamat = alamat\n",
        "        self.__mata_pelajaran = []\n",
        "        self.__nilai = []\n",
        "\n",
        "    def tampilkan(self):\n",
        "        print(\"=\"*20)\n",
        "        print(self.nis,self.nama,self.alamat)\n",
        "        self.tampilkanNilai()\n",
        "        self.tampilkanRataNilai()\n",
        "        print(\"=\"*20)\n",
        "\n",
        "    def tambahNilai(self, mapel, n):\n",
        "        self.__mata_pelajaran.append(mapel)\n",
        "        self.__nilai.append(n)\n",
        "\n",
        "    def tampilkanNilai(self):\n",
        "        for i,j in enumerate(self.__mata_pelajaran):\n",
        "            print(i+1, self.__mata_pelajaran[i],self.__nilai[i])\n",
        "\n",
        "    def tampilkanRataNilai(self):\n",
        "        jumlah = 0\n",
        "        for n in self.__nilai:\n",
        "            jumlah += n\n",
        "        rata = jumlah / len(self.__nilai)\n",
        "        print(\"Rata-Rata Nilai\",rata)\n",
        "\n",
        "class SiswaSMK(Siswa):\n",
        "\n",
        "    def __init__(self, nis, nama, alamat, jurusan):\n",
        "        self.jurusan = jurusan\n",
        "        super().__init__(nis, nama, alamat)\n",
        "\n",
        "    def tampilkan(self):\n",
        "        print(\"=\"*20)\n",
        "        print(self.nis,self.nama,self.alamat)\n",
        "        super().tampilkanNilai()\n",
        "        super().tampilkanRataNilai()\n",
        "        print(\"Jurusan : \", self.jurusan)\n",
        "\n",
        "\n",
        "mikael = Siswa(\"12345\", \"Mikael\", \"Semarang\")\n",
        "yosua = SiswaSMK(\"12346\", \"Yosua\", \"Jakarta\", \"Rekayasa Perangkat Lunak\")\n",
        "\n",
        "## tambah nilai\n",
        "mikael.tambahNilai(\"Matematika\", 98)\n",
        "mikael.tambahNilai(\"IPA\", 95)\n",
        "mikael.tambahNilai(\"Bahasa Inggris\", 100)\n",
        "\n",
        "mikael.tampilkan()\n",
        "\n",
        "yosua.tambahNilai(\"Pemrograman Web\", 100)\n",
        "yosua.tambahNilai(\"Networking 1\", 100)\n",
        "yosua.tampilkan()\n",
        "\n",
        "#mikael.tampilkanNilai()\n",
        "#mikael.tampilkanRataNilai()\n",
        "#yosua.tampilkan()"
      ],
      "metadata": {
        "colab": {
          "base_uri": "https://localhost:8080/"
        },
        "id": "VtLDNChlnDCc",
        "outputId": "18cc22ae-a383-4c42-fc86-163065f83378"
      },
      "execution_count": 124,
      "outputs": [
        {
          "output_type": "stream",
          "name": "stdout",
          "text": [
            "====================\n",
            "12345 Mikael Semarang\n",
            "1 Matematika 98\n",
            "2 IPA 95\n",
            "3 Bahasa Inggris 100\n",
            "Rata-Rata Nilai 97.66666666666667\n",
            "====================\n",
            "====================\n",
            "12346 Yosua Jakarta\n",
            "1 Pemrograman Web 100\n",
            "2 Networking 1 100\n",
            "Rata-Rata Nilai 100.0\n",
            "Jurusan :  Rekayasa Perangkat Lunak\n"
          ]
        }
      ]
    },
    {
      "cell_type": "code",
      "source": [
        "class Parrot:\n",
        "\n",
        "    # instance attributes\n",
        "    def __init__(self, name, age):\n",
        "        self.name = name\n",
        "        self.age = age\n",
        "\n",
        "    # instance method\n",
        "    def sing(self, song):\n",
        "        return \"{} sings {}\".format(self.name, song)\n",
        "\n",
        "    def dance(self):\n",
        "        return \"{} is now dancing\".format(self.name)\n",
        "\n",
        "# instantiate the object\n",
        "\n",
        "\n",
        "# call our instance methods\n",
        "\n"
      ],
      "metadata": {
        "id": "NiuAXrrsnEtT"
      },
      "execution_count": 128,
      "outputs": []
    },
    {
      "cell_type": "code",
      "source": [
        "class Vehicle:\n",
        "    pass\n",
        "\n",
        "class LandVehicle(Vehicle):\n",
        "    pass\n",
        "\n",
        "class TrackedVehicle(LandVehicle):\n",
        "    pass\n",
        "\n",
        "\n",
        "for cls1 in [Vehicle, LandVehicle, TrackedVehicle]:\n",
        "    for cls2 in [Vehicle, LandVehicle, TrackedVehicle]:\n",
        "        print(cls1,cls2,issubclass(cls1, cls2), end=\"\\r\\n\")\n",
        "    print()"
      ],
      "metadata": {
        "colab": {
          "base_uri": "https://localhost:8080/"
        },
        "id": "DS0wrM3ynKD0",
        "outputId": "f0100be3-2ec2-41e0-d870-5ea8b15a6105"
      },
      "execution_count": 129,
      "outputs": [
        {
          "output_type": "stream",
          "name": "stdout",
          "text": [
            "<class '__main__.Vehicle'> <class '__main__.Vehicle'> True\r\n",
            "<class '__main__.Vehicle'> <class '__main__.LandVehicle'> False\r\n",
            "<class '__main__.Vehicle'> <class '__main__.TrackedVehicle'> False\r\n",
            "\n",
            "<class '__main__.LandVehicle'> <class '__main__.Vehicle'> True\r\n",
            "<class '__main__.LandVehicle'> <class '__main__.LandVehicle'> True\r\n",
            "<class '__main__.LandVehicle'> <class '__main__.TrackedVehicle'> False\r\n",
            "\n",
            "<class '__main__.TrackedVehicle'> <class '__main__.Vehicle'> True\r\n",
            "<class '__main__.TrackedVehicle'> <class '__main__.LandVehicle'> True\r\n",
            "<class '__main__.TrackedVehicle'> <class '__main__.TrackedVehicle'> True\r\n",
            "\n"
          ]
        }
      ]
    },
    {
      "cell_type": "code",
      "source": [
        "class Super:\n",
        "    def __init__(self, name):\n",
        "        self.name = name\n",
        "\n",
        "    def __str__(self):\n",
        "        return \"My name is \" + self.name + \".\"\n",
        "\n",
        "\n",
        "class Sub(Super):\n",
        "    def __init__(self, name):\n",
        "        Super.__init__(self, name)\n",
        "\n",
        "\n",
        "obj = Sub(\"Andy\")\n",
        "\n",
        "print(obj)"
      ],
      "metadata": {
        "colab": {
          "base_uri": "https://localhost:8080/"
        },
        "id": "NPsbiqi_nNSM",
        "outputId": "767071d8-a1be-42ac-91f1-8d98d9a3f2be"
      },
      "execution_count": 130,
      "outputs": [
        {
          "output_type": "stream",
          "name": "stdout",
          "text": [
            "My name is Andy.\n"
          ]
        }
      ]
    },
    {
      "cell_type": "code",
      "source": [
        "# parent class\n",
        "class Bird:\n",
        "\n",
        "    def __init__(self):\n",
        "        print(\"Bird is ready\")\n",
        "\n",
        "    def whoisThis(self):\n",
        "        print(\"Bird\")\n",
        "\n",
        "    def swim(self):\n",
        "        print(\"Swim faster\")\n",
        "\n",
        "# child class\n",
        "class Penguin(Bird):\n",
        "\n",
        "    def __init__(self):\n",
        "        # call super() function\n",
        "        super().__init__()\n",
        "        print(\"Penguin is ready\")\n",
        "\n",
        "    def whoisThis(self):\n",
        "        print(\"Penguin\")\n",
        "\n",
        "    def run(self):\n",
        "        print(\"Run faster\")\n",
        "\n",
        "peggy = Penguin()\n",
        "peggy.whoisThis()\n",
        "peggy.swim()\n",
        "peggy.run()"
      ],
      "metadata": {
        "colab": {
          "base_uri": "https://localhost:8080/"
        },
        "id": "xmIKg7qUnOyF",
        "outputId": "d54054f7-3b76-4d2b-9dff-0b5935a12ffd"
      },
      "execution_count": 131,
      "outputs": [
        {
          "output_type": "stream",
          "name": "stdout",
          "text": [
            "Bird is ready\n",
            "Penguin is ready\n",
            "Penguin\n",
            "Swim faster\n",
            "Run faster\n"
          ]
        }
      ]
    },
    {
      "cell_type": "code",
      "source": [
        "class Rekening:\n",
        "    def __init__(self):\n",
        "        self.__saldo = 0\n",
        "\n",
        "    def kredit(self, jumlah):\n",
        "        if jumlah < 0:\n",
        "            print(\"Gagal Kredit, Jumlah tidak bisa kurang dari 0\")\n",
        "            return\n",
        "\n",
        "        self.__saldo += jumlah\n",
        "\n",
        "    def debit(self, jumlah):\n",
        "        if jumlah > self.__saldo:\n",
        "            print(\"Gagal Debit, Jumlah melebihi Saldo!\")\n",
        "            return\n",
        "\n",
        "        if jumlah < 0:\n",
        "            print(\"Gagal Debit, Jumlah tidak bisa kurang dari 0\")\n",
        "            return\n",
        "\n",
        "        self.__saldo -= jumlah\n",
        "\n",
        "    def cetakSaldo(self):\n",
        "        print(\"Saldo saat ini \" + str(self.__saldo))\n",
        "\n",
        "bniBudi = Rekening()\n",
        "\n",
        "bniBudi.kredit(1000)\n",
        "bniBudi.cetakSaldo()\n",
        "bniBudi.debit(100000)\n"
      ],
      "metadata": {
        "colab": {
          "base_uri": "https://localhost:8080/"
        },
        "id": "rpcrsLupnQWd",
        "outputId": "afadaaef-3e5a-4f9a-b8ed-1919610ff80f"
      },
      "execution_count": 132,
      "outputs": [
        {
          "output_type": "stream",
          "name": "stdout",
          "text": [
            "Saldo saat ini 1000\n",
            "Gagal Debit, Jumlah melebihi Saldo!\n"
          ]
        }
      ]
    },
    {
      "cell_type": "code",
      "source": [
        "stack = []\n",
        "\n",
        "def push(val):\n",
        "    stack.append(val)\n",
        "\n",
        "\n",
        "def pop():\n",
        "    val = stack[-1]\n",
        "    del stack[-1]\n",
        "    return val\n",
        "\n",
        "push(3)\n",
        "push(2)\n",
        "push(1)\n",
        "\n",
        "print(pop())\n",
        "print(pop())\n",
        "print(pop())"
      ],
      "metadata": {
        "colab": {
          "base_uri": "https://localhost:8080/"
        },
        "id": "ZOOYvzuJnRu9",
        "outputId": "685bdbac-19ac-45a3-ba28-3ec30fb84852"
      },
      "execution_count": 133,
      "outputs": [
        {
          "output_type": "stream",
          "name": "stdout",
          "text": [
            "1\n",
            "2\n",
            "3\n"
          ]
        }
      ]
    },
    {
      "cell_type": "code",
      "source": [
        "class Stack:\n",
        "    def __init__(self):\n",
        "        self.__stackList = []\n",
        "\n",
        "    def push(self, val):\n",
        "        self.__stackList.append(val)\n",
        "\n",
        "    def pop(self):\n",
        "        val = self.__stackList[-1]\n",
        "        del self.__stackList[-1]\n",
        "        return val\n",
        "\n",
        "\n",
        "stackObject = Stack()\n",
        "\n",
        "stackObject.push(3)\n",
        "stackObject.push(2)\n",
        "stackObject.push(1)\n",
        "\n",
        "print(stackObject.pop())\n",
        "print(stackObject.pop())\n",
        "print(stackObject.pop())"
      ],
      "metadata": {
        "colab": {
          "base_uri": "https://localhost:8080/"
        },
        "id": "kQpMPmOknTvV",
        "outputId": "c84f9908-fdcc-40f3-ecf7-3e2a679c2ddc"
      },
      "execution_count": 134,
      "outputs": [
        {
          "output_type": "stream",
          "name": "stdout",
          "text": [
            "1\n",
            "2\n",
            "3\n"
          ]
        }
      ]
    },
    {
      "cell_type": "code",
      "source": [
        "class Stack:\n",
        "    def __init__(self):\n",
        "        self.__stackList = []\n",
        "\n",
        "    def push(self, val):\n",
        "        self.__stackList.append(val)\n",
        "\n",
        "    def pop(self):\n",
        "        val = self.__stackList[-1]\n",
        "        del self.__stackList[-1]\n",
        "        return val\n",
        "\n",
        "\n",
        "class AddingStack(Stack):\n",
        "    def __init__(self):\n",
        "        Stack.__init__(self)\n",
        "        self.__sum = 0\n",
        "\n",
        "    def getSum(self):\n",
        "        return self.__sum\n",
        "\n",
        "    def push(self, val):\n",
        "        self.__sum += val\n",
        "        Stack.push(self, val)\n",
        "\n",
        "    def pop(self):\n",
        "        val = Stack.pop(self)\n",
        "        self.__sum -= val\n",
        "        return val\n",
        "\n",
        "\n",
        "stackObject = AddingStack()\n",
        "\n",
        "for i in range(5):\n",
        "    stackObject.push(i)\n",
        "print(stackObject.getSum())\n",
        "\n",
        "for i in range(5):\n",
        "    print(stackObject.pop())"
      ],
      "metadata": {
        "colab": {
          "base_uri": "https://localhost:8080/"
        },
        "id": "kc3Sgn_9nVTG",
        "outputId": "0a325cb2-7eab-4cd5-a76c-87e735fb41b6"
      },
      "execution_count": 135,
      "outputs": [
        {
          "output_type": "stream",
          "name": "stdout",
          "text": [
            "10\n",
            "4\n",
            "3\n",
            "2\n",
            "1\n",
            "0\n"
          ]
        }
      ]
    },
    {
      "cell_type": "code",
      "source": [
        "class Siswa:\n",
        "    #class atribut\n",
        "    __jmlMapel = 0\n",
        "    __mapel = []\n",
        "    __nilai = []\n",
        "\n",
        "    def __init__(self, nama, alamat):\n",
        "        self.nama = nama\n",
        "        self.alamat = alamat\n",
        "\n",
        "    def getNama(self):\n",
        "        return self.nama\n",
        "\n",
        "    def tambahNilaiMapel(self,mapel,nilai):\n",
        "        self.__mapel.append(mapel)\n",
        "        self.__nilai.append(nilai)\n",
        "\n",
        "    def cetakNilai(self):\n",
        "        for i,j in enumerate(self.__mapel):\n",
        "            print(self.__mapel[i], self.__nilai[i])\n",
        "\n",
        "\n",
        "s = Siswa(\"Guntur\",\"Jogja\")\n",
        "print(s.nama) # boleh karena publik\n",
        "print(s.getNama()) # bisa juga\n",
        "s.tambahNilaiMapel(\"Matematika\",90)\n",
        "s.tambahNilaiMapel(\"Biologi\",80)\n",
        "\n",
        "s.cetakNilai() # akses nilai hanya lewat sini\n",
        "\n",
        "# print(s.nilai) # ga boleh karena private\n",
        "# print(s.__nilai) # ga boleh karena private"
      ],
      "metadata": {
        "colab": {
          "base_uri": "https://localhost:8080/"
        },
        "id": "QDG5FrnHnXEW",
        "outputId": "86d524a4-f56f-4741-88f4-b639ca5517c7"
      },
      "execution_count": 136,
      "outputs": [
        {
          "output_type": "stream",
          "name": "stdout",
          "text": [
            "Guntur\n",
            "Guntur\n",
            "Matematika 90\n",
            "Biologi 80\n"
          ]
        }
      ]
    },
    {
      "cell_type": "code",
      "source": [
        "import math\n",
        "class Circle:\n",
        "    def __init__(self, radius, color):\n",
        "        self.__radius = radius\n",
        "        self.__color = color\n",
        "\n",
        "    def getRadius(self):\n",
        "        return self.__radius\n",
        "\n",
        "    def setRadius(self,radius):\n",
        "        self.__radius = radius\n",
        "\n",
        "    def getColor(self):\n",
        "        return self.__color\n",
        "\n",
        "    def setColor(self,color):\n",
        "        self.__color = color\n",
        "\n",
        "    def getArea(self):\n",
        "        return math.pi * self.__radius ** 2\n",
        "\n",
        "\n",
        "# radius = 2, color = blue\n",
        "c1 = Circle(2,\"blue\")\n",
        "# c1.setRadius(2)\n",
        "# c1.setColor(\"blue\")\n",
        "print(c1.getArea())\n",
        "\n",
        "# radius = 2, color = red\n",
        "c2 = Circle(2,\"red\")\n",
        "# c2.setRadius(2)\n",
        "# c2.setColor(\"red\")\n",
        "print(c2.getArea())\n",
        "\n",
        "# radius = 1, color = red\n",
        "c3 = Circle(1,\"red\")\n",
        "# c3.setRadius(1)\n",
        "# c3.setColor(\"red\")\n",
        "print(c3.getArea())"
      ],
      "metadata": {
        "colab": {
          "base_uri": "https://localhost:8080/"
        },
        "id": "Y6b6T4xVnYZn",
        "outputId": "ce243fde-717d-4a81-d143-9b90681ab4b5"
      },
      "execution_count": 137,
      "outputs": [
        {
          "output_type": "stream",
          "name": "stdout",
          "text": [
            "12.566370614359172\n",
            "12.566370614359172\n",
            "3.141592653589793\n"
          ]
        }
      ]
    },
    {
      "cell_type": "code",
      "source": [
        "class Employee:\n",
        "    def __init__(self,idEmp,firstName,lastName,salary):\n",
        "        self.__idEmp = idEmp\n",
        "        self.__firstName = firstName\n",
        "        self.__lastName = lastName\n",
        "        self.__salary = salary\n",
        "\n",
        "    def getID(self):\n",
        "        return self.__idEmp\n",
        "\n",
        "    def getFirstName(self):\n",
        "        return self.__firstName\n",
        "\n",
        "    def getLastName(self):\n",
        "        return self.__lastName\n",
        "\n",
        "    def getName(self):\n",
        "        return self.__firstName + \" \" + self.__lastName\n",
        "\n",
        "    def getSalary(self):\n",
        "        return self.__salary\n",
        "\n",
        "    def setSalary(self,salary):\n",
        "        self.__salary = salary\n",
        "\n",
        "    def getAnnualSalary(self):\n",
        "        return self.__salary * 12\n",
        "\n",
        "    def raiseSalary(self,percent):\n",
        "        self.__salary += self.__salary * (percent/100)\n",
        "        return self.__salary\n",
        "\n",
        "    def __str__(self):\n",
        "        return self.getName() + \" \" + str(self.getSalary())\n",
        "\n",
        "\n",
        "class Manager(Employee):\n",
        "    def __init__(self,idEmp,firstName,lastName,salary,bonus):\n",
        "        super().__init__(idEmp,firstName,lastName,salary)\n",
        "        self.__bonus = bonus\n",
        "\n",
        "    def setBranch(self, branch):\n",
        "        self.__branch = branch\n",
        "\n",
        "    def getBranch(self, branch):\n",
        "        return self.__branch\n",
        "\n",
        "    def getBonus(self, bonus):\n",
        "        return self.__bonus\n",
        "\n",
        "    def setBonus(self, bonus):\n",
        "        self.__bonus = bonus\n",
        "\n",
        "    def getAnnualSalary(self):\n",
        "        return super().getSalary() * 12 + self.__bonus\n",
        "\n",
        "\n",
        "m1 = Manager(1234,\"Guntur\",\"Budi\",5000,9000)\n",
        "print(m1.getName())\n",
        "print(m1.getAnnualSalary())\n",
        "\n",
        "# e1 = Employee(1234,\"Guntur\",\"Budi\",5000)\n",
        "# print(e1.getSalary())\n",
        "# print(e1.getAnnualSalary())\n",
        "# print(e1.raiseSalary(50))\n",
        "# print(e1.getAnnualSalary())\n",
        "# print(e1)"
      ],
      "metadata": {
        "colab": {
          "base_uri": "https://localhost:8080/"
        },
        "id": "zuEtDSxzoHNE",
        "outputId": "3ab1eaf6-c40b-42a0-a58c-141b1337b767"
      },
      "execution_count": 141,
      "outputs": [
        {
          "output_type": "stream",
          "name": "stdout",
          "text": [
            "Guntur Budi\n",
            "69000\n"
          ]
        }
      ]
    },
    {
      "cell_type": "code",
      "source": [
        "class Person:\n",
        "    def __init__(self,name,address):\n",
        "        self.__name = name\n",
        "        self.__address = address\n",
        "\n",
        "    def getName(self):\n",
        "        return self.__name\n",
        "\n",
        "    def getAddress(self):\n",
        "        return self.__address\n",
        "\n",
        "    def setName(name):\n",
        "        self.__name = name\n",
        "\n",
        "    def __str__(self):\n",
        "        return self.__name+\" \"+self.__address\n",
        ""
      ],
      "metadata": {
        "id": "jNBXy6bioTYF"
      },
      "execution_count": 145,
      "outputs": []
    },
    {
      "cell_type": "code",
      "source": [
        "class Student(Person):\n",
        "    def __init__(self,name,address):\n",
        "        super().__init__(name,address)\n",
        "        self.__numCourses = 0\n",
        "        self.__courses = []\n",
        "        self.__grades = []\n",
        "\n",
        "    def addCourseGrade(self,course,grade):\n",
        "        self.__courses.append(course)\n",
        "        self.__grades.append(grade)\n",
        "        self.__numCourses += 1\n",
        "\n",
        "    def printGrades(self):\n",
        "        for i in range(len(self.__courses)):\n",
        "            print(self.__courses[i] +\" : \"+ str(self.__grades[i]))\n",
        "\n",
        "    def getAverageGrade(self):\n",
        "        sum = 0\n",
        "        for n in self.__grades:\n",
        "            sum += n\n",
        "        return sum / len(self.__grades)\n",
        "\n",
        "    def __str__(self):\n",
        "        return \"Student: \" + super().getName() + \" \" +super().getAddress()"
      ],
      "metadata": {
        "id": "o0_6G61-od0G"
      },
      "execution_count": 149,
      "outputs": []
    },
    {
      "cell_type": "code",
      "source": [
        "class Teacher(Person):\n",
        "    def __init__(self,name,address):\n",
        "        super().__init__(name,address)\n",
        "        self.__numCourses = 0\n",
        "        self.__courses = []\n",
        "\n",
        "    def addCourse(self, course):\n",
        "        if course not in self.__courses:\n",
        "            self.__courses.append(course)\n",
        "            return True\n",
        "        else:\n",
        "            return False\n",
        "\n",
        "    def removeCourse(self, course):\n",
        "        if course in self.__courses:\n",
        "            i = self.__courses.index(course)\n",
        "            del self.__courses[i]\n",
        "            return True\n",
        "        else:\n",
        "            return False\n",
        "\n",
        "    def printCourse(self):\n",
        "        print(self.__courses)\n",
        "\n",
        "    def __str__(self):\n",
        "        return \"Teacher: \" + super().getName() + \" \" +super().getAddress()"
      ],
      "metadata": {
        "id": "lKvZHBmpoLPc"
      },
      "execution_count": 146,
      "outputs": []
    },
    {
      "cell_type": "code",
      "source": [
        "class Student:\n",
        "    def __init__(self,name,address):\n",
        "        self.__name = name\n",
        "        self.__address = address\n",
        "        self.__numCourses = 0\n",
        "        self.__courses = []\n",
        "        self.__grades = []\n",
        "\n",
        "    def getName(self):\n",
        "        return self.__name\n",
        "\n",
        "    def getAddress(self):\n",
        "        return self.__address\n",
        "\n",
        "    def setAddress(self,address):\n",
        "        self.__address = address\n",
        "\n",
        "    def addCourseGrade(self,course,grade):\n",
        "        self.__courses.append(course)\n",
        "        self.__grades.append(grade)\n",
        "        self.__numCourses += 1\n",
        "\n",
        "    def printGrades(self):\n",
        "        for i in range(len(self.__courses)):\n",
        "            print(self.__courses[i] +\" : \"+ str(self.__grades[i]))\n",
        "\n",
        "    def getAverageGrade(self):\n",
        "        sum = 0\n",
        "        for n in self.__grades:\n",
        "            sum += n\n",
        "        return sum / len(self.__grades)\n",
        "\n",
        "\n",
        "n_siswa = int(input(\"Masukkan Jumlah Siswa = \"))\n",
        "n_course = int(input(\"Masukkkan Jumlah Course = \"))\n",
        "\n",
        "siswa = []\n",
        "for i in range(n_siswa):\n",
        "    nama = input(\"Masukkan Nama Siswa = \")\n",
        "    alamat = input(\"Masukkan Alamat Siswa = \")\n",
        "    siswa.append(Student(nama,alamat))\n",
        "    for j in range(n_course):\n",
        "        mapel = input(\"Masukkan Nama Mapel Siswa \"+nama+\" = \")\n",
        "        nilai = int(input(\"Masukkan Nilai Mapel Siswa \"+nama+\" = \"))\n",
        "        siswa[i].addCourseGrade(mapel,nilai)\n",
        "\n",
        "s1 = Student(\"Ani\",\"Yogyakarta\")\n",
        "print(s1.getName(),s1.getAddress())\n",
        "s1.addCourseGrade(\"Matematika\",95)\n",
        "s1.addCourseGrade(\"IPA\",90)\n",
        "s1.addCourseGrade(\"Bahasa Indonesia\",85)\n",
        "s1.printGrades()\n",
        "print(\"Rata-Rata : \", s1.getAverageGrade())\n",
        "\n",
        "\n",
        "print(\"Hasil\")\n",
        "for i in range(n_siswa):\n",
        "    print(s1.getName(),s1.getAddress())\n",
        "    siswa[i].printGrades()\n",
        "    print(\"Rata-Rata : \", siswa[i].getAverageGrade())\n",
        "\n",
        "\n",
        "# print()\n",
        "# s2 = Student(\"Budi\",\"Jakarta\")\n",
        "# print(s2.getName(),s2.getAddress())\n",
        "# s2.addCourseGrade(\"Matematika\",60)\n",
        "# s2.addCourseGrade(\"IPA\",70)\n",
        "# s2.addCourseGrade(\"Bahasa Indonesia\",100)\n",
        "# s2.printGrades()\n",
        "# print(\"Rata-Rata : \", s2.getAverageGrade())"
      ],
      "metadata": {
        "colab": {
          "base_uri": "https://localhost:8080/"
        },
        "id": "pUObr681nZ83",
        "outputId": "05c66ef5-df83-49ea-bea7-467f087faa26"
      },
      "execution_count": 152,
      "outputs": [
        {
          "output_type": "stream",
          "name": "stdout",
          "text": [
            "Masukkan Jumlah Siswa = 1\n",
            "Masukkkan Jumlah Course = 2\n",
            "Masukkan Nama Siswa = ani\n",
            "Masukkan Alamat Siswa = jogja\n",
            "Masukkan Nama Mapel Siswa ani = mtk\n",
            "Masukkan Nilai Mapel Siswa ani = 89\n",
            "Masukkan Nama Mapel Siswa ani = ipa\n",
            "Masukkan Nilai Mapel Siswa ani = 90\n",
            "Ani Yogyakarta\n",
            "Matematika : 95\n",
            "IPA : 90\n",
            "Bahasa Indonesia : 85\n",
            "Rata-Rata :  90.0\n",
            "Hasil\n",
            "Ani Yogyakarta\n",
            "mtk : 89\n",
            "ipa : 90\n",
            "Rata-Rata :  89.5\n"
          ]
        }
      ]
    },
    {
      "cell_type": "code",
      "source": [
        "t1 = Teacher(\"Pak Budi\",\"Jakarta\")\n",
        "print(t1)\n",
        "\n",
        "t1.addCourse(\"Matematika\")\n",
        "t1.addCourse(\"Fisika\")\n",
        "\n",
        "t1.printCourse()\n",
        "if(t1.removeCourse(\"Biologi\")):\n",
        "    print(\"Berhasil Dihapus\")\n",
        "else:\n",
        "    print(\"Gagal Dihapus\")\n",
        "t1.printCourse()\n"
      ],
      "metadata": {
        "colab": {
          "base_uri": "https://localhost:8080/"
        },
        "id": "WgfVgZYzoMV1",
        "outputId": "f7f59f5d-1114-4510-8ab9-d31a90013197"
      },
      "execution_count": 147,
      "outputs": [
        {
          "output_type": "stream",
          "name": "stdout",
          "text": [
            "Teacher: Pak Budi Jakarta\n",
            "['Matematika', 'Fisika']\n",
            "Gagal Dihapus\n",
            "['Matematika', 'Fisika']\n"
          ]
        }
      ]
    }
  ]
}